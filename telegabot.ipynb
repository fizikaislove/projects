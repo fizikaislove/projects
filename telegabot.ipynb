{
 "cells": [
  {
   "cell_type": "code",
   "execution_count": 16,
   "metadata": {
    "collapsed": true
   },
   "outputs": [],
   "source": [
    "import telebot\n",
    "#import config\n",
    "import os\n",
    "import time\n",
    "\n",
    "directory = '/home/ivan/pic'\n",
    "token = ''\n",
    "bot = telebot.TeleBot(token)\n",
    "\n",
    "\n",
    "\n",
    "@bot.message_handler(commands=['pic'])\n",
    "\n",
    "def send_pics(message):\n",
    "    global directory\n",
    "    for file in os.listdir(directory):\n",
    "        if file.split('.')[-1] in [\"jpg\",\"png\"]:\n",
    "            f = open(directory+\"/\"+file, 'rb')\n",
    "            bot.send_message(message.chat.id,text = \"Current situation is:\")\n",
    "            msg = bot.send_photo(message.chat.id, f, None)\n",
    "            bot.send_message(message.chat.id,text = file)\n",
    "        time.sleep(3)\n",
    "\n",
    "\n",
    "\n",
    "@bot.message_handler(commands= ['time'])\n",
    "\n",
    "def send_time(message):\n",
    "    global directory\n",
    "    for file in os.listdir(directory):\n",
    "        if file == 'time.txt':\n",
    "            f = open(directory+\"/\"+file, 'r')\n",
    "            print(f)\n",
    "            time=f.readline().split('\\n')[0]\n",
    "            print(time)\n",
    "            bot.send_message(message.chat.id,text =\"Until completion \" + time)\n",
    "\n",
    "\n",
    "@bot.message_handler(commands= ['send'])\n",
    "\n",
    "def send_result(message):\n",
    "    global directory\n",
    "    for file in os.listdir(directory):\n",
    "        if file == 'result.txt':\n",
    "            f = open(directory+\"/\"+file, 'r')\n",
    "            if f.readline().split('\\n')[0] == 'True':\n",
    "                bot.send_message(message.chat.id,text = \"Done,wait a moment\")\n",
    "                send_pics(message)\n",
    "            else:\n",
    "                bot.send_message(message.chat.id,text = \"Not yet,until completion\")\n",
    "                send_time(message)\n",
    "\n",
    "bot.polling(none_stop=True)"
   ]
  }
 ],
 "metadata": {
  "kernelspec": {
   "display_name": "Python 3",
   "language": "python",
   "name": "python3"
  },
  "language_info": {
   "codemirror_mode": {
    "name": "ipython",
    "version": 3
   },
   "file_extension": ".py",
   "mimetype": "text/x-python",
   "name": "python",
   "nbconvert_exporter": "python",
   "pygments_lexer": "ipython3",
   "version": "3.5.2"
  }
 },
 "nbformat": 4,
 "nbformat_minor": 2
}
