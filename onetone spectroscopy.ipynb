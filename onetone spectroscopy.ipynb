{
 "cells": [
  {
   "cell_type": "code",
   "execution_count": 35,
   "metadata": {
    "collapsed": true
   },
   "outputs": [],
   "source": [
    "%matplotlib qt5"
   ]
  },
  {
   "cell_type": "code",
   "execution_count": 36,
   "metadata": {
    "collapsed": true
   },
   "outputs": [],
   "source": [
    "from scipy import ndimage"
   ]
  },
  {
   "cell_type": "code",
   "execution_count": 37,
   "metadata": {
    "collapsed": true
   },
   "outputs": [],
   "source": [
    "import pickle\n",
    "import numpy as np\n",
    "import matplotlib.pyplot as plt"
   ]
  },
  {
   "cell_type": "code",
   "execution_count": 130,
   "metadata": {
    "collapsed": true
   },
   "outputs": [],
   "source": [
    "directory =\"/home/ivan/thesis-Ivan/data/\"\n",
    "with open(directory+'S-parameter Coil 1 anticrossings qubit 3 Icoil_3 0.0001 (2).pkl', 'rb') as fhandle:\n",
    "    data = pickle.load(fhandle)"
   ]
  },
  {
   "cell_type": "code",
   "execution_count": 131,
   "metadata": {
    "collapsed": true
   },
   "outputs": [],
   "source": [
    "S21=data[1]['S-parameter'][2]\n",
    "freqs = data[1]['S-parameter'][1][1]\n",
    "curr= data[1]['S-parameter'][1][0]"
   ]
  },
  {
   "cell_type": "code",
   "execution_count": 132,
   "metadata": {
    "collapsed": true
   },
   "outputs": [],
   "source": [
    "fig, axes = plt.subplots(1,2, figsize=(10,5))\n",
    "axes[0].pcolormesh(curr, freqs, np.abs(S21.T),cmap='RdBu_r')\n",
    "axes[1].pcolormesh(curr, freqs, np.angle(S21.T),cmap='RdBu_r')\n",
    "plt.show()"
   ]
  },
  {
   "cell_type": "code",
   "execution_count": 133,
   "metadata": {
    "collapsed": true
   },
   "outputs": [],
   "source": [
    "def anti(S21):\n",
    "    from scipy import ndimage\n",
    "    min0=100\n",
    "    ind=-1\n",
    "    f = np.angle(S21)\n",
    "    f_u = np.unwrap(f)\n",
    "    for i in range(5,50):\n",
    "        f_u_span = np.median(f_u[:,-1]-f_u[:,0])+2*np.pi*(i/10)\n",
    "        S21_c = S21*np.exp(-1j*np.linspace(0, f_u_span, len(f[0,:])))\n",
    "        a = ndimage.sobel(np.angle(S21_c))\n",
    "        if(min0>np.max(a)):\n",
    "            min0=np.max(a)\n",
    "            ind=i    \n",
    "    print(ind/10)\n",
    "    f_u_span = np.median(f_u[:,-1]-f_u[:,0])+2*np.pi*(ind/10)\n",
    "    S21_c = S21[0:]*np.exp(-1j*np.linspace(0, f_u_span, len(f[0,:])))\n",
    "    plt.figure(1)\n",
    "    plt.pcolormesh(curr,freqs,np.angle(S21_c).T,cmap='RdBu_r')\n",
    "    plt.colorbar()\n",
    "    plt.show()\n",
    "    plt.figure(2)\n",
    "    plt.imshow(np.rot90(ndimage.sobel(np.angle(S21_c))))\n",
    "    plt.colorbar()\n",
    "    plt.show()\n",
    "    plt.figure(3)\n",
    "    plt.pcolormesh(curr,freqs,np.abs(S21).T,cmap='RdBu_r')\n",
    "    plt.colorbar()\n",
    "    plt.show()\n",
    "    return S21_c\n",
    "\n",
    "def find_where(x,a,curr):\n",
    "    freq_curr=[]\n",
    "    for i in range(len(x)):\n",
    "        if x[i]==a:\n",
    "            freq_curr.append([curr[i],a])\n",
    "    return freq_curr\n",
    "\n",
    "def find_2_fr(z):\n",
    "    low_fr=z[-1][0]\n",
    "    high_fr=0\n",
    "    for i in range(len(z)-1,0,-1):\n",
    "        if(z[i][0]-low_fr)>1e6:\n",
    "            high_fr=z[i][0]\n",
    "            break\n",
    "    return high_fr\n",
    "\n",
    "def choose_data (we,curr):\n",
    "    we_norm=[]\n",
    "    curr_norm=[]\n",
    "    for i in range(len(we)-1):\n",
    "        dif=np.abs(we[i]-we[i+1])/1e5\n",
    "        if dif<3:\n",
    "            we_norm.append(we[i])\n",
    "            curr_norm.append(curr[i])\n",
    "    return curr_norm,we_norm \n",
    "\n",
    "def SortByCount(a):\n",
    "    return a[1]\n",
    "\n",
    "def find_smth(S21_c,curr):\n",
    "    we=[]\n",
    "    for g in range(len(curr)):\n",
    "        y=np.diff(np.angle(S21_c[g]))\n",
    "        we.append(freqs[np.argmax(y)])\n",
    "    curr,we=choose_data(we,curr)\n",
    "    z=[[x, we.count(x)] for x in set(we)]\n",
    "    z.sort()\n",
    "    z.sort(key=SortByCount)\n",
    "    line1 = z[-1][0]*np.ones(len(curr))\n",
    "    line2 = find_2_fr(z)*np.ones(len(curr))\n",
    "#     plt.plot(curr,we,'ro',linewidth=0.1)\n",
    "#     plt.plot(curr,line1)\n",
    "#     plt.plot(curr,line2)\n",
    "#     plt.show()\n",
    "    return we,line1[0],line2[0],curr,z\n",
    "\n",
    "def find_max_min(curr_seq):\n",
    "    median=[]\n",
    "    group_freq=[]\n",
    "    for group in range(len(curr_seq)):\n",
    "        freq1=curr_seq[group][0][1]\n",
    "        curr_freq_1=[ curr_seq[group][i][0] for i in range(len(curr_seq[group]))]\n",
    "        median.append((curr_freq_1[0]+curr_freq_1[-1])/2)\n",
    "        group_freq.append(freq1)\n",
    "    return median,group_freq\n",
    "\n",
    "def split_current(we,fr1,fr2,curr_new):\n",
    "    curr1,curr2 =find_where(we,fr1,curr_new),find_where(we,fr2,curr_new)\n",
    "    curr_fr=curr2+curr1\n",
    "    curr_fr.sort()\n",
    "    fr_init=curr_fr[0][1]\n",
    "    ind=0\n",
    "    curr_seq=[]\n",
    "    for i in range(len(curr_fr)):\n",
    "        if curr_fr[i][1]!=fr_init:\n",
    "            fr_init=curr_fr[i][1]\n",
    "            curr_seq.append(curr_fr[ind:i])\n",
    "            ind=i\n",
    "    if (len(curr_fr)-ind)>1:\n",
    "        curr_seq.append(curr_fr[ind:len(curr_fr)])\n",
    "    list_of_remove=[]\n",
    "    for i in range(len(curr_seq)-1,-1,-1):\n",
    "        if len(curr_seq[i])<3 :\n",
    "            list_of_remove.append(i)\n",
    "    for i in list_of_remove:\n",
    "        curr_seq.remove(curr_seq[i])\n",
    "    return curr_seq"
   ]
  },
  {
   "cell_type": "code",
   "execution_count": 134,
   "metadata": {},
   "outputs": [
    {
     "name": "stdout",
     "output_type": "stream",
     "text": [
      "1.3\n"
     ]
    }
   ],
   "source": []
  },
  {
   "cell_type": "code",
   "execution_count": 140,
   "metadata": {
    "collapsed": true
   },
   "outputs": [],
   "source": [
    "S21_c=anti(S21)\n",
    "plt.figure(1)\n",
    "plt.pcolormesh(curr,freqs,np.abs(S21_c).T,cmap='RdBu_r')\n",
    "plt.colorbar()\n",
    "plt.show()\n",
    "plt.figure(2)\n",
    "plt.pcolormesh(curr,freqs,np.angle(S21_c).T,cmap='RdBu_r')\n",
    "plt.colorbar()\n",
    "plt.show()\n"
   ]
  },
  {
   "cell_type": "code",
   "execution_count": 136,
   "metadata": {
    "collapsed": true
   },
   "outputs": [],
   "source": [
    "we,fr1,fr2,curr_new=find_smth(S21_c,curr)[:4]"
   ]
  },
  {
   "cell_type": "code",
   "execution_count": 142,
   "metadata": {
    "scrolled": true
   },
   "outputs": [
    {
     "name": "stdout",
     "output_type": "stream",
     "text": [
      "[-0.0014599999999999999, -0.00013499999999999992, 0.0014900000000000002] [6808250000.0, 6812450000.0, 6808250000.0]\n"
     ]
    }
   ],
   "source": [
    "curr_seq=split_current(we,fr1,fr2,curr_new)\n",
    "middle_curr,middle_freq=find_max_min(curr_seq)\n",
    "print(middle_curr,middle_freq)\n",
    "plt.plot(middle_curr,middle_freq,'go')\n",
    "plt.show()"
   ]
  },
  {
   "cell_type": "code",
   "execution_count": 141,
   "metadata": {},
   "outputs": [
    {
     "data": {
      "text/plain": [
       "1.0649819494584838"
      ]
     },
     "execution_count": 141,
     "metadata": {},
     "output_type": "execute_result"
    }
   ],
   "source": [
    "L_q3_C1*(0.0014900000000000002+0.0014599999999999999)/F0"
   ]
  },
  {
   "cell_type": "code",
   "execution_count": 21,
   "metadata": {
    "collapsed": true
   },
   "outputs": [],
   "source": [
    "L_matrix={1:{\n",
    "            \"Coil\":[],\n",
    "            \"Qubit\":[],\n",
    "            \"Frequency\":[],\n",
    "            \"Current\":[] \n",
    "            },\n",
    "          2:{\n",
    "            \"Coil\":[],\n",
    "            \"Qubit\":[],\n",
    "            \"Frequency\":[],\n",
    "            \"Current\":[] \n",
    "            },\n",
    "          3:{\n",
    "            \"Coil\":[],\n",
    "            \"Qubit\":[],\n",
    "            \"Frequency\":[],\n",
    "            \"Current\":[] \n",
    "            },\n",
    "          4:{\n",
    "            \"Coil\":[],\n",
    "            \"Qubit\":[],\n",
    "            \"Frequency\":[],\n",
    "            \"Current\":[] \n",
    "            }\n",
    "         }"
   ]
  },
  {
   "cell_type": "code",
   "execution_count": 59,
   "metadata": {
    "collapsed": true
   },
   "outputs": [],
   "source": [
    "num=1\n",
    "L_matrix[num]['Coil'].append(1)\n",
    "L_matrix[num]['Qubit'].append(1)\n",
    "L_matrix[num]['Frequency'].append(middle_freq[:2])\n",
    "L_matrix[num]['Current'].append(middle_curr[:2])"
   ]
  },
  {
   "cell_type": "code",
   "execution_count": 67,
   "metadata": {
    "collapsed": true
   },
   "outputs": [],
   "source": [
    "L_matrix[4][\"Qubit\"][0]=3"
   ]
  },
  {
   "cell_type": "code",
   "execution_count": 68,
   "metadata": {},
   "outputs": [
    {
     "data": {
      "text/plain": [
       "{1: {'Coil': [1],\n",
       "  'Current': [[-0.0012700000000000001, 0.00085000000000000006]],\n",
       "  'Frequency': [[6532400000.0, 6529100000.0]],\n",
       "  'Qubit': [1]},\n",
       " 2: {'Coil': [1],\n",
       "  'Current': [[-0.00088499999999999994, 0.00050000000000000023]],\n",
       "  'Frequency': [[6813050000.0, 6808700000.0]],\n",
       "  'Qubit': [3]},\n",
       " 3: {'Coil': [3],\n",
       "  'Current': [[-9.5500000000000017e-05, 3.5499999999999982e-05]],\n",
       "  'Frequency': [[6529100000.0, 6532400000.0]],\n",
       "  'Qubit': [1]},\n",
       " 4: {'Coil': [3],\n",
       "  'Current': [[-9.3000000000000011e-05, 2.6999999999999979e-05]],\n",
       "  'Frequency': [[6808400000.0, 6812900000.0]],\n",
       "  'Qubit': [3]}}"
      ]
     },
     "execution_count": 68,
     "metadata": {},
     "output_type": "execute_result"
    }
   ],
   "source": [
    "L_matrix"
   ]
  },
  {
   "cell_type": "code",
   "execution_count": 31,
   "metadata": {
    "collapsed": true
   },
   "outputs": [],
   "source": [
    "F0=2.0678e-7"
   ]
  },
  {
   "cell_type": "code",
   "execution_count": 122,
   "metadata": {
    "collapsed": true
   },
   "outputs": [],
   "source": [
    "I=-0.000165"
   ]
  },
  {
   "cell_type": "code",
   "execution_count": 143,
   "metadata": {
    "collapsed": true
   },
   "outputs": [],
   "source": [
    "I2=-0.00013499999999999992"
   ]
  },
  {
   "cell_type": "code",
   "execution_count": 17,
   "metadata": {},
   "outputs": [
    {
     "data": {
      "text/plain": [
       "1.0339e-07"
      ]
     },
     "execution_count": 17,
     "metadata": {},
     "output_type": "execute_result"
    }
   ],
   "source": [
    "F0_half=2.0678e-7/2\n",
    "F0_half"
   ]
  },
  {
   "cell_type": "code",
   "execution_count": 154,
   "metadata": {},
   "outputs": [
    {
     "data": {
      "text/plain": [
       "0.13206979542719605"
      ]
     },
     "execution_count": 154,
     "metadata": {},
     "output_type": "execute_result"
    }
   ],
   "source": [
    "F_ext_2=(F0_half-(L_q3_C1*I2+L_q3_C3*0.1e-3))/F0\n",
    "F_ext_2"
   ]
  },
  {
   "cell_type": "code",
   "execution_count": 156,
   "metadata": {},
   "outputs": [
    {
     "data": {
      "text/plain": [
       "0.15723570502664547"
      ]
     },
     "execution_count": 156,
     "metadata": {},
     "output_type": "execute_result"
    }
   ],
   "source": [
    "F_ext_1=(F0_half-(L_q1_C1*I+L_q1_C3*0.1e-3))/F0\n",
    "F_ext_1"
   ]
  },
  {
   "cell_type": "code",
   "execution_count": 161,
   "metadata": {},
   "outputs": [
    {
     "data": {
      "text/plain": [
       "9.35366271500034e-05"
      ]
     },
     "execution_count": 161,
     "metadata": {},
     "output_type": "execute_result"
    }
   ],
   "source": [
    "I_3=(F0_half-F_ext_2*F0-L_q3_C1*I_1)/L_q3_C3\n",
    "I_3"
   ]
  },
  {
   "cell_type": "code",
   "execution_count": 160,
   "metadata": {},
   "outputs": [
    {
     "data": {
      "text/plain": [
       "-6.040190502295583e-05"
      ]
     },
     "execution_count": 160,
     "metadata": {},
     "output_type": "execute_result"
    }
   ],
   "source": [
    "I_1=(-F0_half+F_ext_2*F0-(-F0_half+F_ext_1*F0)*L_q3_C3/L_q1_C3)/(L_q3_C3*L_q1_C1/L_q1_C3-L_q3_C1)\n",
    "I_1"
   ]
  },
  {
   "cell_type": "code",
   "execution_count": 149,
   "metadata": {},
   "outputs": [
    {
     "data": {
      "text/plain": [
       "(0.15723570502664547, 0.13206979542719605)"
      ]
     },
     "execution_count": 149,
     "metadata": {},
     "output_type": "execute_result"
    }
   ],
   "source": [
    "F_ext_1,F_ext_2"
   ]
  },
  {
   "cell_type": "code",
   "execution_count": 150,
   "metadata": {},
   "outputs": [
    {
     "data": {
      "text/plain": [
       "-6.040190502295583e-05"
      ]
     },
     "execution_count": 150,
     "metadata": {},
     "output_type": "execute_result"
    }
   ],
   "source": [
    "I_1=(-F0_half+F_ext_2*F0+(F0_half-F_ext_1*F0)*L_q3_C3/L_q1_C3)/(L_q3_C3/L_q1_C3*L_q1_C1-L_q3_C1)"
   ]
  },
  {
   "cell_type": "code",
   "execution_count": 146,
   "metadata": {
    "collapsed": true
   },
   "outputs": [],
   "source": [
    "F_ext_1=(F0_half-(L_q1_C1*I+L_q1_C3*0.1e-3))/F0"
   ]
  },
  {
   "cell_type": "code",
   "execution_count": 93,
   "metadata": {},
   "outputs": [
    {
     "data": {
      "text/plain": [
       "0.2004716981132075"
      ]
     },
     "execution_count": 93,
     "metadata": {},
     "output_type": "execute_result"
    }
   ],
   "source": [
    "(L_q1_C1*(0.00085000000000000006))/F0"
   ]
  },
  {
   "cell_type": "code",
   "execution_count": 94,
   "metadata": {},
   "outputs": [
    {
     "data": {
      "text/plain": [
       "-0.36450381679389326"
      ]
     },
     "execution_count": 94,
     "metadata": {},
     "output_type": "execute_result"
    }
   ],
   "source": [
    "((L_q1_C3*(-9.5500000000000017e-05)))/F0"
   ]
  },
  {
   "cell_type": "code",
   "execution_count": 96,
   "metadata": {},
   "outputs": [
    {
     "data": {
      "text/plain": [
       "0.18050541516245494"
      ]
     },
     "execution_count": 96,
     "metadata": {},
     "output_type": "execute_result"
    }
   ],
   "source": [
    "(L_q3_C1*(0.00050000000000000023))/F0"
   ]
  },
  {
   "cell_type": "code",
   "execution_count": 95,
   "metadata": {},
   "outputs": [
    {
     "data": {
      "text/plain": [
       "-0.38750000000000007"
      ]
     },
     "execution_count": 95,
     "metadata": {},
     "output_type": "execute_result"
    }
   ],
   "source": [
    "((L_q3_C3*(-9.3000000000000011e-05)))/F0"
   ]
  },
  {
   "cell_type": "code",
   "execution_count": 80,
   "metadata": {},
   "outputs": [
    {
     "data": {
      "text/plain": [
       "0.7995283018867924"
      ]
     },
     "execution_count": 80,
     "metadata": {},
     "output_type": "execute_result"
    }
   ],
   "source": [
    "(F0_half-(L_q1_C1*(-0.0012700000000000001)))/F0"
   ]
  },
  {
   "cell_type": "code",
   "execution_count": 81,
   "metadata": {},
   "outputs": [
    {
     "data": {
      "text/plain": [
       "0.38750000000000007"
      ]
     },
     "execution_count": 81,
     "metadata": {},
     "output_type": "execute_result"
    }
   ],
   "source": [
    "(F0_half-(L_q3_C3*2.6999999999999979e-05))/F0"
   ]
  },
  {
   "cell_type": "code",
   "execution_count": 82,
   "metadata": {},
   "outputs": [
    {
     "data": {
      "text/plain": [
       "0.8194945848375451"
      ]
     },
     "execution_count": 82,
     "metadata": {},
     "output_type": "execute_result"
    }
   ],
   "source": [
    "(F0_half-(L_q3_C1*-0.00088499999999999994))/F0"
   ]
  },
  {
   "cell_type": "code",
   "execution_count": 83,
   "metadata": {},
   "outputs": [
    {
     "data": {
      "text/plain": [
       "0.36450381679389315"
      ]
     },
     "execution_count": 83,
     "metadata": {},
     "output_type": "execute_result"
    }
   ],
   "source": [
    "(F0_half-(L_q1_C3*3.5499999999999982e-05))/F0"
   ]
  },
  {
   "cell_type": "code",
   "execution_count": 28,
   "metadata": {},
   "outputs": [
    {
     "data": {
      "text/plain": [
       "48.768867924528294"
      ]
     },
     "execution_count": 28,
     "metadata": {},
     "output_type": "execute_result"
    }
   ],
   "source": [
    "deltaI_q1_C1=0.00085000000000000006+0.0012700000000000001\n",
    "L_q1_C1=F0_half/deltaI_q1_C1\n",
    "L_q1_C1/1e-6"
   ]
  },
  {
   "cell_type": "code",
   "execution_count": 23,
   "metadata": {},
   "outputs": [
    {
     "data": {
      "text/plain": [
       "74.64981949458483"
      ]
     },
     "execution_count": 23,
     "metadata": {},
     "output_type": "execute_result"
    }
   ],
   "source": [
    "deltaI_q3_C1=0.00050000000000000023+0.00088499999999999994\n",
    "L_q3_C1=F0_half/deltaI_q3_C1\n",
    "L_q3_C1/1e-6"
   ]
  },
  {
   "cell_type": "code",
   "execution_count": 25,
   "metadata": {},
   "outputs": [
    {
     "data": {
      "text/plain": [
       "789.2366412213743"
      ]
     },
     "execution_count": 25,
     "metadata": {},
     "output_type": "execute_result"
    }
   ],
   "source": [
    "deltaI_q1_C3=9.5500000000000017e-05+3.5499999999999982e-05\n",
    "L_q1_C3=F0_half/deltaI_q1_C3\n",
    "L_q1_C3/1e-6"
   ]
  },
  {
   "cell_type": "code",
   "execution_count": 26,
   "metadata": {},
   "outputs": [
    {
     "data": {
      "text/plain": [
       "861.5833333333335"
      ]
     },
     "execution_count": 26,
     "metadata": {},
     "output_type": "execute_result"
    }
   ],
   "source": [
    "deltaI_q3_C3=9.3000000000000011e-05+2.6999999999999979e-05\n",
    "L_q3_C3=F0_half/deltaI_q3_C3\n",
    "L_q3_C3/1e-6"
   ]
  },
  {
   "cell_type": "code",
   "execution_count": null,
   "metadata": {
    "collapsed": true
   },
   "outputs": [],
   "source": [
    "# curr1,curr2 =find_where(we,fr1,curr_new),find_where(we,fr2,curr_new)\n",
    "# curr_fr=curr2+curr1\n",
    "# curr_fr.sort()\n",
    "# curr_fr"
   ]
  },
  {
   "cell_type": "code",
   "execution_count": null,
   "metadata": {
    "collapsed": true
   },
   "outputs": [],
   "source": [
    "curr1,curr2 =find_where(we,fr1,curr_new),find_where(we,fr2,curr_new)\n",
    "curr1,curr2 "
   ]
  },
  {
   "cell_type": "code",
   "execution_count": 41,
   "metadata": {
    "collapsed": true
   },
   "outputs": [],
   "source": [
    "curq=[curr_fr[i][0]for i in range(len(curr_fr))]"
   ]
  },
  {
   "cell_type": "code",
   "execution_count": null,
   "metadata": {
    "collapsed": true
   },
   "outputs": [],
   "source": [
    "plt.plot()"
   ]
  },
  {
   "cell_type": "code",
   "execution_count": 28,
   "metadata": {},
   "outputs": [
    {
     "ename": "ValueError",
     "evalue": "either both or neither of x and y should be given",
     "output_type": "error",
     "traceback": [
      "\u001b[1;31m---------------------------------------------------------------------------\u001b[0m",
      "\u001b[1;31mValueError\u001b[0m                                Traceback (most recent call last)",
      "\u001b[1;32m<ipython-input-28-a6571813e070>\u001b[0m in \u001b[0;36m<module>\u001b[1;34m()\u001b[0m\n\u001b[1;32m----> 1\u001b[1;33m \u001b[0mnp\u001b[0m\u001b[1;33m.\u001b[0m\u001b[0mwhere\u001b[0m\u001b[1;33m(\u001b[0m\u001b[0mcurr1\u001b[0m\u001b[1;33m>\u001b[0m\u001b[0mcurr_fr\u001b[0m\u001b[1;33m,\u001b[0m\u001b[1;33m[\u001b[0m\u001b[0mcurr1\u001b[0m\u001b[1;33m,\u001b[0m\u001b[0mcurr_fr\u001b[0m\u001b[1;33m]\u001b[0m\u001b[1;33m)\u001b[0m\u001b[1;33m\u001b[0m\u001b[0m\n\u001b[0m",
      "\u001b[1;31mValueError\u001b[0m: either both or neither of x and y should be given"
     ]
    }
   ],
   "source": [
    "for j in range(len(curr1)):\n",
    "    "
   ]
  },
  {
   "cell_type": "code",
   "execution_count": 23,
   "metadata": {},
   "outputs": [
    {
     "data": {
      "text/plain": [
       "[-0.00089999999999999998,\n",
       " -0.00087999999999999992,\n",
       " -0.00085999999999999987,\n",
       " -0.00084000000000000003,\n",
       " -0.00081999999999999998,\n",
       " -0.00079999999999999993,\n",
       " -0.00077999999999999988,\n",
       " -0.00076000000000000004,\n",
       " -0.00073999999999999999,\n",
       " 2.0000000000000052e-05,\n",
       " 4.0000000000000105e-05,\n",
       " 6.0000000000000157e-05,\n",
       " 8.000000000000021e-05,\n",
       " 0.00010000000000000026,\n",
       " 0.00012000000000000031,\n",
       " 0.00013999999999999993,\n",
       " 0.00015999999999999999,\n",
       " 0.00018000000000000004,\n",
       " 0.00020000000000000009,\n",
       " 0.00022000000000000014,\n",
       " 0.0002400000000000002,\n",
       " 0.00026000000000000025,\n",
       " 0.0002800000000000003,\n",
       " 0.00030000000000000035,\n",
       " 0.00031999999999999997,\n",
       " 0.00034000000000000002,\n",
       " 0.00036000000000000008,\n",
       " 0.0011400000000000004,\n",
       " 0.00116,\n",
       " 0.0011800000000000001,\n",
       " 0.0012000000000000001,\n",
       " 0.0012200000000000002,\n",
       " 0.0012400000000000002]"
      ]
     },
     "execution_count": 23,
     "metadata": {},
     "output_type": "execute_result"
    }
   ],
   "source": [
    "curr_fr"
   ]
  },
  {
   "cell_type": "code",
   "execution_count": 24,
   "metadata": {
    "collapsed": true
   },
   "outputs": [],
   "source": [
    "plt.plot(curr2,fr2*np.ones(len(curr2)),'yo')\n",
    "plt.plot(curr1,fr1*np.ones(len(curr1)),'go')\n",
    "plt.show()"
   ]
  },
  {
   "cell_type": "code",
   "execution_count": 25,
   "metadata": {},
   "outputs": [
    {
     "ename": "TypeError",
     "evalue": "unsupported operand type(s) for -: 'list' and 'list'",
     "output_type": "error",
     "traceback": [
      "\u001b[1;31m---------------------------------------------------------------------------\u001b[0m",
      "\u001b[1;31mTypeError\u001b[0m                                 Traceback (most recent call last)",
      "\u001b[1;32m<ipython-input-25-ab17c74b5f61>\u001b[0m in \u001b[0;36m<module>\u001b[1;34m()\u001b[0m\n\u001b[0;32m      1\u001b[0m \u001b[1;33m\u001b[0m\u001b[0m\n\u001b[1;32m----> 2\u001b[1;33m \u001b[0mcenter_fr1\u001b[0m\u001b[1;33m,\u001b[0m\u001b[0mcenter_fr2\u001b[0m \u001b[1;33m=\u001b[0m\u001b[1;33m(\u001b[0m\u001b[0mcurr2\u001b[0m\u001b[1;33m[\u001b[0m\u001b[1;36m0\u001b[0m\u001b[1;33m]\u001b[0m\u001b[1;33m-\u001b[0m\u001b[0mcurr2\u001b[0m\u001b[1;33m[\u001b[0m\u001b[1;33m-\u001b[0m\u001b[1;36m1\u001b[0m\u001b[1;33m]\u001b[0m\u001b[1;33m)\u001b[0m\u001b[1;33m/\u001b[0m\u001b[1;36m2\u001b[0m\u001b[1;33m+\u001b[0m\u001b[0mcurr2\u001b[0m\u001b[1;33m[\u001b[0m\u001b[1;33m-\u001b[0m\u001b[1;36m1\u001b[0m\u001b[1;33m]\u001b[0m\u001b[1;33m,\u001b[0m\u001b[1;33m(\u001b[0m\u001b[0mcurr1\u001b[0m\u001b[1;33m[\u001b[0m\u001b[1;36m0\u001b[0m\u001b[1;33m]\u001b[0m\u001b[1;33m-\u001b[0m\u001b[0mcurr1\u001b[0m\u001b[1;33m[\u001b[0m\u001b[1;33m-\u001b[0m\u001b[1;36m1\u001b[0m\u001b[1;33m]\u001b[0m\u001b[1;33m)\u001b[0m\u001b[1;33m/\u001b[0m\u001b[1;36m2\u001b[0m\u001b[1;33m+\u001b[0m\u001b[0mcurr1\u001b[0m\u001b[1;33m[\u001b[0m\u001b[1;33m-\u001b[0m\u001b[1;36m1\u001b[0m\u001b[1;33m]\u001b[0m\u001b[1;33m\u001b[0m\u001b[0m\n\u001b[0m\u001b[0;32m      3\u001b[0m \u001b[0mprint\u001b[0m\u001b[1;33m(\u001b[0m\u001b[1;33m(\u001b[0m\u001b[0mfr1\u001b[0m\u001b[1;33m,\u001b[0m\u001b[0mcenter_fr1\u001b[0m\u001b[1;33m)\u001b[0m\u001b[1;33m,\u001b[0m\u001b[1;33m(\u001b[0m\u001b[0mfr2\u001b[0m\u001b[1;33m,\u001b[0m\u001b[0mcenter_fr2\u001b[0m\u001b[1;33m)\u001b[0m\u001b[1;33m)\u001b[0m\u001b[1;33m\u001b[0m\u001b[0m\n\u001b[0;32m      4\u001b[0m \u001b[0mplt\u001b[0m\u001b[1;33m.\u001b[0m\u001b[0mplot\u001b[0m\u001b[1;33m(\u001b[0m\u001b[1;33m[\u001b[0m\u001b[0mcenter_fr1\u001b[0m\u001b[1;33m,\u001b[0m\u001b[0mcenter_fr2\u001b[0m\u001b[1;33m]\u001b[0m\u001b[1;33m,\u001b[0m\u001b[1;33m[\u001b[0m\u001b[0mfr2\u001b[0m\u001b[1;33m,\u001b[0m\u001b[0mfr1\u001b[0m\u001b[1;33m]\u001b[0m\u001b[1;33m,\u001b[0m\u001b[1;34m'ko'\u001b[0m\u001b[1;33m)\u001b[0m\u001b[1;33m\u001b[0m\u001b[0m\n\u001b[0;32m      5\u001b[0m \u001b[0mplt\u001b[0m\u001b[1;33m.\u001b[0m\u001b[0mshow\u001b[0m\u001b[1;33m(\u001b[0m\u001b[1;33m)\u001b[0m\u001b[1;33m\u001b[0m\u001b[0m\n",
      "\u001b[1;31mTypeError\u001b[0m: unsupported operand type(s) for -: 'list' and 'list'"
     ]
    }
   ],
   "source": [
    "\n",
    "center_fr1,center_fr2 =(curr2[0]-curr2[-1])/2+curr2[-1],(curr1[0]-curr1[-1])/2+curr1[-1]\n",
    "print((fr1,center_fr1),(fr2,center_fr2))\n",
    "plt.plot([center_fr1,center_fr2],[fr2,fr1],'ko')\n",
    "plt.show()"
   ]
  },
  {
   "cell_type": "code",
   "execution_count": 34,
   "metadata": {
    "collapsed": true
   },
   "outputs": [],
   "source": []
  },
  {
   "cell_type": "code",
   "execution_count": null,
   "metadata": {
    "collapsed": true
   },
   "outputs": [],
   "source": []
  },
  {
   "cell_type": "code",
   "execution_count": null,
   "metadata": {
    "collapsed": true
   },
   "outputs": [],
   "source": []
  },
  {
   "cell_type": "code",
   "execution_count": null,
   "metadata": {
    "collapsed": true
   },
   "outputs": [],
   "source": []
  },
  {
   "cell_type": "code",
   "execution_count": 395,
   "metadata": {},
   "outputs": [
    {
     "data": {
      "text/plain": [
       "[<matplotlib.lines.Line2D at 0x7fa82ca1cba8>]"
      ]
     },
     "execution_count": 395,
     "metadata": {},
     "output_type": "execute_result"
    }
   ],
   "source": [
    "line2 = ((fr1-fr2)/2+fr2)*np.ones(len(curr))\n",
    "plt.plot(curr,line2)"
   ]
  },
  {
   "cell_type": "code",
   "execution_count": 397,
   "metadata": {
    "collapsed": true
   },
   "outputs": [],
   "source": []
  },
  {
   "cell_type": "code",
   "execution_count": 387,
   "metadata": {
    "collapsed": true
   },
   "outputs": [],
   "source": [
    "f = np.angle(S21[0:])\n",
    "f_u = np.unwrap(f)\n",
    "S21_c = []\n",
    "# for i \n",
    "f_u_span = np.median(f_u[:,-1]-f_u[:,0])+2*np.pi*(0.8)\n",
    "S21_c = S21[0:]*np.exp(-1j*np.linspace(0, f_u_span, len(f[0,:])))\n",
    "plt.figure()\n",
    "plt.pcolormesh(curr,freqs,np.angle(S21_c[0:]).T,cmap='RdBu_r')\n",
    "plt.colorbar()\n",
    "plt.show()\n",
    "# plt.savefig('Anti_211.png',dpi=300)"
   ]
  },
  {
   "cell_type": "code",
   "execution_count": 352,
   "metadata": {},
   "outputs": [
    {
     "data": {
      "text/plain": [
       "6811400000.0"
      ]
     },
     "execution_count": 352,
     "metadata": {},
     "output_type": "execute_result"
    }
   ],
   "source": [
    "find_2_fr(zxc)"
   ]
  },
  {
   "cell_type": "code",
   "execution_count": 273,
   "metadata": {
    "collapsed": true
   },
   "outputs": [],
   "source": [
    "line = zxc[-4][0]*np.ones(len(curr))\n",
    "plt.plot(curr,line)\n",
    "plt.show()"
   ]
  },
  {
   "cell_type": "code",
   "execution_count": 223,
   "metadata": {
    "collapsed": true
   },
   "outputs": [],
   "source": [
    "we=[]\n",
    "for g in range(len(curr)):\n",
    "    y=np.diff(np.angle(S21_c[g]))\n",
    "    we.append(freqs[np.argmax(y)])"
   ]
  },
  {
   "cell_type": "code",
   "execution_count": 329,
   "metadata": {
    "collapsed": true
   },
   "outputs": [],
   "source": [
    "for i in range(len(np.diff(we))):\n",
    "    tr=0\n",
    "    if np.abs(np.diff(we)[i])/1e6>1:\n",
    "        tr=1\n",
    "        we[i+1]=6.809e9\n",
    "    else:\n",
    "        tr=0"
   ]
  },
  {
   "cell_type": "code",
   "execution_count": 330,
   "metadata": {
    "collapsed": true
   },
   "outputs": [],
   "source": [
    "plt.plot(curr,we,'ro',linewidth=0.1)\n",
    "plt.show()"
   ]
  },
  {
   "cell_type": "code",
   "execution_count": 230,
   "metadata": {},
   "outputs": [
    {
     "data": {
      "text/plain": [
       "array([  6.66070000e+09,   6.66070000e+09,   6.66070000e+09,\n",
       "         6.66070000e+09,   6.66070000e+09,   6.66070000e+09,\n",
       "         6.66070000e+09,   6.66070000e+09,   6.66070000e+09,\n",
       "         6.66070000e+09,   6.66070000e+09,   6.66070000e+09,\n",
       "         6.66070000e+09,   6.66070000e+09,   6.66070000e+09,\n",
       "         6.66070000e+09,   6.66070000e+09,   6.66070000e+09,\n",
       "         6.66070000e+09,   6.66070000e+09,   6.66070000e+09,\n",
       "         6.66070000e+09,   6.66070000e+09,   6.66070000e+09,\n",
       "         6.66070000e+09,   6.66070000e+09,   6.66070000e+09,\n",
       "         6.66070000e+09,   6.66070000e+09,   6.66070000e+09,\n",
       "         6.66070000e+09,   6.66070000e+09,   6.66070000e+09,\n",
       "         6.66070000e+09,   6.66070000e+09,   6.66070000e+09,\n",
       "         6.66070000e+09,   6.66070000e+09,   6.66070000e+09,\n",
       "         6.66070000e+09,   6.66070000e+09,   6.66070000e+09,\n",
       "         6.66070000e+09,   6.66070000e+09,   6.66070000e+09,\n",
       "         6.66070000e+09,   6.66070000e+09,   6.66070000e+09,\n",
       "         6.66070000e+09,   6.66070000e+09,   6.66070000e+09,\n",
       "         6.66070000e+09,   6.66070000e+09,   6.66070000e+09,\n",
       "         6.66070000e+09,   6.66070000e+09,   6.66070000e+09,\n",
       "         6.66070000e+09,   6.66070000e+09,   6.66070000e+09,\n",
       "         6.66070000e+09,   6.66070000e+09,   6.66070000e+09,\n",
       "         6.66070000e+09,   6.66070000e+09,   6.66070000e+09,\n",
       "         6.66070000e+09,   6.66070000e+09,   6.66070000e+09,\n",
       "         6.66070000e+09,   6.66070000e+09,   6.66070000e+09,\n",
       "         6.66070000e+09,   6.66070000e+09,   6.66070000e+09,\n",
       "         6.66070000e+09,   6.66070000e+09,   6.66070000e+09,\n",
       "         6.66070000e+09,   6.66070000e+09,   6.66070000e+09,\n",
       "         6.66070000e+09,   6.66070000e+09,   6.66070000e+09,\n",
       "         6.66070000e+09,   6.66070000e+09,   6.66070000e+09,\n",
       "         6.66070000e+09,   6.66070000e+09,   6.66070000e+09,\n",
       "         6.66070000e+09,   6.66070000e+09,   6.66070000e+09,\n",
       "         6.66070000e+09,   6.66070000e+09,   6.66070000e+09,\n",
       "         6.66070000e+09,   6.66070000e+09,   6.66070000e+09,\n",
       "         6.66070000e+09,   6.66070000e+09])"
      ]
     },
     "execution_count": 230,
     "metadata": {},
     "output_type": "execute_result"
    }
   ],
   "source": [
    "xcv=[d[-1:][i][0]*np.ones(len(curr)) for i in range(1)]\n",
    "xcv[0]"
   ]
  },
  {
   "cell_type": "code",
   "execution_count": 206,
   "metadata": {},
   "outputs": [
    {
     "data": {
      "text/plain": [
       "6531000000.0"
      ]
     },
     "execution_count": 206,
     "metadata": {},
     "output_type": "execute_result"
    }
   ],
   "source": [
    "(xcv[1]-xcv[0])[0]/2+xcv[0][0]"
   ]
  },
  {
   "cell_type": "code",
   "execution_count": 231,
   "metadata": {
    "collapsed": true
   },
   "outputs": [],
   "source": [
    "for i in range(1):\n",
    "    plt.plot(curr,xcv[i])\n",
    "plt.show()"
   ]
  },
  {
   "cell_type": "code",
   "execution_count": 233,
   "metadata": {},
   "outputs": [
    {
     "data": {
      "text/plain": [
       "6660700000.0"
      ]
     },
     "execution_count": 233,
     "metadata": {},
     "output_type": "execute_result"
    }
   ],
   "source": [
    "d=z[-1][0]\n",
    "d"
   ]
  },
  {
   "cell_type": "code",
   "execution_count": 225,
   "metadata": {},
   "outputs": [
    {
     "data": {
      "text/plain": [
       "[[6668500000.0, 1],\n",
       " [6663100000.0, 1],\n",
       " [6662500000.0, 1],\n",
       " [6661300000.0, 1],\n",
       " [6673500000.0, 1],\n",
       " [6665300000.0, 1],\n",
       " [6664900000.0, 1],\n",
       " [6665700000.0, 1],\n",
       " [6667300000.0, 1],\n",
       " [6669300000.0, 1],\n",
       " [6655700000.0, 1],\n",
       " [6668100000.0, 1],\n",
       " [6674500000.0, 1],\n",
       " [6671300000.0, 1],\n",
       " [6656500000.0, 1],\n",
       " [6657700000.0, 1],\n",
       " [6655300000.0, 1],\n",
       " [6657900000.0, 1],\n",
       " [6670700000.0, 1],\n",
       " [6657300000.0, 1],\n",
       " [6656100000.0, 1],\n",
       " [6654900000.0, 1],\n",
       " [6658900000.0, 1],\n",
       " [6665500000.0, 1],\n",
       " [6665100000.0, 1],\n",
       " [6666300000.0, 1],\n",
       " [6666700000.0, 1],\n",
       " [6671100000.0, 1],\n",
       " [6655100000.0, 1],\n",
       " [6658700000.0, 1],\n",
       " [6672100000.0, 1],\n",
       " [6659100000.0, 2],\n",
       " [6659900000.0, 2],\n",
       " [6659500000.0, 3],\n",
       " [6664500000.0, 3],\n",
       " [6659700000.0, 3],\n",
       " [6658300000.0, 3],\n",
       " [6660100000.0, 4],\n",
       " [6664700000.0, 6],\n",
       " [6660300000.0, 7],\n",
       " [6660500000.0, 10],\n",
       " [6660700000.0, 27]]"
      ]
     },
     "execution_count": 225,
     "metadata": {},
     "output_type": "execute_result"
    }
   ],
   "source": [
    "def SortByCount(a):\n",
    "    return a[1]\n",
    "z=[[x, we.count(x)] for x in set(we)]\n",
    "z.sort(key=SortByCount)\n",
    "z"
   ]
  },
  {
   "cell_type": "code",
   "execution_count": 126,
   "metadata": {},
   "outputs": [
    {
     "name": "stdout",
     "output_type": "stream",
     "text": [
      "<built-in method items of dict object at 0x7fa82c9908c8>\n"
     ]
    }
   ],
   "source": []
  },
  {
   "cell_type": "code",
   "execution_count": 100,
   "metadata": {},
   "outputs": [
    {
     "ename": "AttributeError",
     "evalue": "'set' object has no attribute 'shape'",
     "output_type": "error",
     "traceback": [
      "\u001b[1;31m---------------------------------------------------------------------------\u001b[0m",
      "\u001b[1;31mAttributeError\u001b[0m                            Traceback (most recent call last)",
      "\u001b[1;32m<ipython-input-100-44dd91d6c06b>\u001b[0m in \u001b[0;36m<module>\u001b[1;34m()\u001b[0m\n\u001b[0;32m      1\u001b[0m \u001b[0mx\u001b[0m\u001b[1;33m=\u001b[0m\u001b[0mset\u001b[0m\u001b[1;33m(\u001b[0m\u001b[0mwe\u001b[0m\u001b[1;33m)\u001b[0m\u001b[1;33m\u001b[0m\u001b[0m\n\u001b[1;32m----> 2\u001b[1;33m \u001b[0mx\u001b[0m\u001b[1;33m.\u001b[0m\u001b[0mshape\u001b[0m\u001b[1;33m\u001b[0m\u001b[0m\n\u001b[0m",
      "\u001b[1;31mAttributeError\u001b[0m: 'set' object has no attribute 'shape'"
     ]
    }
   ],
   "source": [
    "x=set(we)\n",
    "x."
   ]
  },
  {
   "cell_type": "code",
   "execution_count": 122,
   "metadata": {
    "collapsed": true
   },
   "outputs": [],
   "source": [
    "plt.plot(curr,we,'ro')\n",
    "plt.show()"
   ]
  },
  {
   "cell_type": "code",
   "execution_count": 52,
   "metadata": {
    "collapsed": true
   },
   "outputs": [],
   "source": [
    "a = ndimage.sobel(np.abs(S21_c))\n",
    "plt.imshow(a)\n",
    "plt.colorbar()\n",
    "plt.show()"
   ]
  },
  {
   "cell_type": "code",
   "execution_count": 517,
   "metadata": {},
   "outputs": [
    {
     "ename": "TypeError",
     "evalue": "unorderable types: list() > int()",
     "output_type": "error",
     "traceback": [
      "\u001b[1;31m---------------------------------------------------------------------------\u001b[0m",
      "\u001b[1;31mTypeError\u001b[0m                                 Traceback (most recent call last)",
      "\u001b[1;32m<ipython-input-517-52d37cc7520f>\u001b[0m in \u001b[0;36m<module>\u001b[1;34m()\u001b[0m\n\u001b[0;32m      1\u001b[0m \u001b[0masdf\u001b[0m\u001b[1;33m=\u001b[0m\u001b[1;33m[\u001b[0m\u001b[1;36m1\u001b[0m\u001b[1;33m,\u001b[0m\u001b[1;36m1\u001b[0m\u001b[1;33m,\u001b[0m\u001b[1;36m2\u001b[0m\u001b[1;33m]\u001b[0m\u001b[1;33m\u001b[0m\u001b[0m\n\u001b[1;32m----> 2\u001b[1;33m \u001b[0masz\u001b[0m\u001b[1;33m=\u001b[0m\u001b[0mnp\u001b[0m\u001b[1;33m.\u001b[0m\u001b[0mwhere\u001b[0m\u001b[1;33m(\u001b[0m\u001b[0masdf\u001b[0m\u001b[1;33m>\u001b[0m\u001b[1;36m1\u001b[0m\u001b[1;33m)\u001b[0m\u001b[1;33m\u001b[0m\u001b[0m\n\u001b[0m\u001b[0;32m      3\u001b[0m \u001b[0masz\u001b[0m\u001b[1;33m\u001b[0m\u001b[0m\n",
      "\u001b[1;31mTypeError\u001b[0m: unorderable types: list() > int()"
     ]
    }
   ],
   "source": [
    "asdf=[1,1,2]\n",
    "asz=np.where(asdf>1)\n",
    "asz"
   ]
  },
  {
   "cell_type": "code",
   "execution_count": 506,
   "metadata": {
    "collapsed": true
   },
   "outputs": [],
   "source": [
    "qaz=[]\n",
    "for j in range(len(a[0])):\n",
    "#     qw\n",
    "    qwe=[int(a[i][j])for i in range(len(a[0]))]\n",
    "#     plt.plot(range(len(qwe)),qwe,\"ro\")\n",
    "#     plt.show()\n",
    "    qaz"
   ]
  },
  {
   "cell_type": "code",
   "execution_count": 582,
   "metadata": {
    "collapsed": true
   },
   "outputs": [],
   "source": [
    "qw=43\n",
    "qwe=[int(a[i][qw])for i in range(len(a[0]))]\n",
    "plt.plot(range(len(qwe)),qwe,\"ro\")\n",
    "plt.show()"
   ]
  },
  {
   "cell_type": "code",
   "execution_count": 519,
   "metadata": {
    "collapsed": true
   },
   "outputs": [],
   "source": [
    "g=30\n",
    "plt.plot(range(len(a[g])),a[g])\n",
    "plt.show()"
   ]
  },
  {
   "cell_type": "code",
   "execution_count": 438,
   "metadata": {},
   "outputs": [
    {
     "data": {
      "text/plain": [
       "24.767435841806712"
      ]
     },
     "execution_count": 438,
     "metadata": {},
     "output_type": "execute_result"
    }
   ],
   "source": [
    "np.max(a)"
   ]
  },
  {
   "cell_type": "code",
   "execution_count": 559,
   "metadata": {},
   "outputs": [
    {
     "name": "stdout",
     "output_type": "stream",
     "text": [
      "5\n",
      "1.7540949501\n",
      "6\n",
      "1.70382946764\n",
      "7\n",
      "1.65356398518\n",
      "8\n",
      "1.60329850273\n",
      "9\n",
      "12.4069318172\n",
      "10\n",
      "24.8430030168\n",
      "11\n",
      "24.8240885548\n",
      "12\n",
      "24.7743321429\n",
      "13\n",
      "24.6115728495\n",
      "14\n",
      "24.6504888953\n",
      "15\n",
      "24.6314475973\n",
      "16\n",
      "24.5480289568\n",
      "17\n",
      "24.4443193754\n",
      "18\n",
      "24.396308446\n",
      "19\n",
      "24.3489599685\n",
      "20\n",
      "24.8410250879\n",
      "21\n",
      "24.5740075079\n",
      "22\n",
      "24.3354856928\n",
      "23\n",
      "24.2307293121\n",
      "24\n",
      "24.2207587477\n",
      "25\n",
      "24.1714900512\n",
      "26\n",
      "24.1087665201\n",
      "27\n",
      "23.9307196813\n",
      "28\n",
      "23.9564434665\n",
      "29\n",
      "23.9450581105\n",
      "30\n",
      "23.8947926281\n",
      "31\n",
      "23.9349768913\n",
      "32\n",
      "23.8462536165\n",
      "33\n",
      "23.8106161649\n",
      "34\n",
      "24.1553326958\n",
      "35\n",
      "24.0545067822\n",
      "36\n",
      "23.5787490551\n",
      "37\n",
      "23.5673074757\n",
      "38\n",
      "23.73304853\n",
      "39\n",
      "23.4207722545\n",
      "40\n",
      "23.5101928206\n",
      "41\n",
      "23.5740477242\n",
      "42\n",
      "24.2643025677\n",
      "43\n",
      "24.6773427587\n",
      "44\n",
      "24.6295232037\n",
      "45\n",
      "24.4731264308\n",
      "46\n",
      "24.2242925688\n",
      "47\n",
      "23.4306032901\n",
      "48\n",
      "23.4552205777\n",
      "49\n",
      "24.0348154728\n",
      "0.8\n"
     ]
    }
   ],
   "source": [
    "min0=100\n",
    "ind=-1\n",
    "for i in range(5,50):\n",
    "    print(i)\n",
    "    f_u_span = np.median(f_u[:,-1]-f_u[:,0])+2*np.pi*(i/10)\n",
    "    S21_c = S21[0:]*np.exp(-1j*np.linspace(0, f_u_span, len(f[0,:])))\n",
    "    a = ndimage.sobel(np.angle(S21_c))\n",
    "    if(min0>np.max(a)):\n",
    "        min0=np.max(a)\n",
    "        ind=i    \n",
    "    print(np.max(a))\n",
    "print(ind/10)"
   ]
  },
  {
   "cell_type": "code",
   "execution_count": 551,
   "metadata": {},
   "outputs": [
    {
     "data": {
      "text/plain": [
       "8"
      ]
     },
     "execution_count": 551,
     "metadata": {},
     "output_type": "execute_result"
    }
   ],
   "source": [
    "ind"
   ]
  },
  {
   "cell_type": "code",
   "execution_count": 408,
   "metadata": {},
   "outputs": [
    {
     "data": {
      "text/plain": [
       "24.216214507816172"
      ]
     },
     "execution_count": 408,
     "metadata": {},
     "output_type": "execute_result"
    }
   ],
   "source": [
    "max(a[g])"
   ]
  },
  {
   "cell_type": "code",
   "execution_count": 378,
   "metadata": {},
   "outputs": [
    {
     "data": {
      "text/plain": [
       "0.00088531274598642885"
      ]
     },
     "execution_count": 378,
     "metadata": {},
     "output_type": "execute_result"
    }
   ],
   "source": [
    "np.mean(a[0])"
   ]
  },
  {
   "cell_type": "code",
   "execution_count": 349,
   "metadata": {
    "collapsed": true
   },
   "outputs": [],
   "source": [
    "b=a[0][a[0]>20]"
   ]
  },
  {
   "cell_type": "code",
   "execution_count": 350,
   "metadata": {},
   "outputs": [
    {
     "data": {
      "text/plain": [
       "array([ 23.65009291])"
      ]
     },
     "execution_count": 350,
     "metadata": {},
     "output_type": "execute_result"
    }
   ],
   "source": [
    "b"
   ]
  },
  {
   "cell_type": "code",
   "execution_count": null,
   "metadata": {
    "collapsed": true
   },
   "outputs": [],
   "source": []
  },
  {
   "cell_type": "code",
   "execution_count": null,
   "metadata": {
    "collapsed": true
   },
   "outputs": [],
   "source": []
  },
  {
   "cell_type": "code",
   "execution_count": null,
   "metadata": {
    "collapsed": true
   },
   "outputs": [],
   "source": []
  },
  {
   "cell_type": "code",
   "execution_count": 157,
   "metadata": {},
   "outputs": [
    {
     "ename": "NameError",
     "evalue": "name 'x' is not defined",
     "output_type": "error",
     "traceback": [
      "\u001b[1;31m---------------------------------------------------------------------------\u001b[0m",
      "\u001b[1;31mNameError\u001b[0m                                 Traceback (most recent call last)",
      "\u001b[1;32m<ipython-input-157-749da7da27cb>\u001b[0m in \u001b[0;36m<module>\u001b[1;34m()\u001b[0m\n\u001b[1;32m----> 1\u001b[1;33m \u001b[0mplt\u001b[0m\u001b[1;33m.\u001b[0m\u001b[0mplot\u001b[0m\u001b[1;33m(\u001b[0m\u001b[0mfreqs\u001b[0m\u001b[1;33m,\u001b[0m\u001b[0mnp\u001b[0m\u001b[1;33m.\u001b[0m\u001b[0mimag\u001b[0m\u001b[1;33m(\u001b[0m\u001b[0mS21_c\u001b[0m\u001b[1;33m[\u001b[0m\u001b[0mint\u001b[0m\u001b[1;33m(\u001b[0m\u001b[0mx\u001b[0m\u001b[1;33m[\u001b[0m\u001b[0mnp\u001b[0m\u001b[1;33m.\u001b[0m\u001b[0margmin\u001b[0m\u001b[1;33m(\u001b[0m\u001b[0mfunc\u001b[0m\u001b[1;33m(\u001b[0m\u001b[0mx\u001b[0m\u001b[1;33m,\u001b[0m\u001b[0mpopt\u001b[0m\u001b[1;33m[\u001b[0m\u001b[1;36m0\u001b[0m\u001b[1;33m]\u001b[0m\u001b[1;33m,\u001b[0m\u001b[0mpopt\u001b[0m\u001b[1;33m[\u001b[0m\u001b[1;36m1\u001b[0m\u001b[1;33m]\u001b[0m\u001b[1;33m,\u001b[0m\u001b[0mpopt\u001b[0m\u001b[1;33m[\u001b[0m\u001b[1;36m2\u001b[0m\u001b[1;33m]\u001b[0m\u001b[1;33m)\u001b[0m\u001b[1;33m)\u001b[0m\u001b[1;33m]\u001b[0m\u001b[1;33m)\u001b[0m\u001b[1;33m]\u001b[0m\u001b[1;33m)\u001b[0m\u001b[1;33m)\u001b[0m\u001b[1;33m\u001b[0m\u001b[0m\n\u001b[0m\u001b[0;32m      2\u001b[0m \u001b[0mplt\u001b[0m\u001b[1;33m.\u001b[0m\u001b[0mshow\u001b[0m\u001b[1;33m(\u001b[0m\u001b[1;33m)\u001b[0m\u001b[1;33m\u001b[0m\u001b[0m\n",
      "\u001b[1;31mNameError\u001b[0m: name 'x' is not defined"
     ]
    }
   ],
   "source": [
    "plt.plot(freqs,np.imag(S21_c[int(x[np.argmin(func(x,popt[0],popt[1],popt[2]))])]))\n",
    "plt.show()"
   ]
  },
  {
   "cell_type": "code",
   "execution_count": 80,
   "metadata": {
    "collapsed": true
   },
   "outputs": [],
   "source": [
    "amps = 2*abs(np.fft.fft(np.imag(S21_c[80])))/len(np.imag(S21_c[80]))\n",
    "amps = amps[0:int(len(amps)/2)]\n",
    "amps = amps[0:50] \n",
    "freqs1=np.arange(0, len(amps), 1)"
   ]
  },
  {
   "cell_type": "code",
   "execution_count": 85,
   "metadata": {},
   "outputs": [
    {
     "data": {
      "text/plain": [
       "0.034328265671564009"
      ]
     },
     "execution_count": 85,
     "metadata": {},
     "output_type": "execute_result"
    }
   ],
   "source": [
    "amps[np.argmax(amps)]"
   ]
  },
  {
   "cell_type": "code",
   "execution_count": 86,
   "metadata": {},
   "outputs": [
    {
     "data": {
      "text/plain": [
       "[<matplotlib.lines.Line2D at 0x7f06d07410b8>]"
      ]
     },
     "execution_count": 86,
     "metadata": {},
     "output_type": "execute_result"
    }
   ],
   "source": [
    "plt.plot(freqs1,amps,'ro')"
   ]
  },
  {
   "cell_type": "code",
   "execution_count": 27,
   "metadata": {
    "collapsed": true
   },
   "outputs": [],
   "source": [
    "plt.plot(range(len(argmaxs)),freqs[argmaxs])\n",
    "plt.show()"
   ]
  },
  {
   "cell_type": "code",
   "execution_count": 12,
   "metadata": {
    "collapsed": true
   },
   "outputs": [],
   "source": [
    "plt.plot(range(26,62),freqs[argmaxs[26:62]])\n",
    "plt.show()"
   ]
  },
  {
   "cell_type": "code",
   "execution_count": 24,
   "metadata": {
    "collapsed": true
   },
   "outputs": [],
   "source": [
    "plt.plot(range(29,59),freqs[argmaxs[29:59]])\n",
    "plt.show()"
   ]
  },
  {
   "cell_type": "code",
   "execution_count": 285,
   "metadata": {
    "collapsed": true
   },
   "outputs": [],
   "source": [
    "for i in range(0,5):\n",
    "    plt.plot(freqs[:-1],dif[i])\n",
    "plt.show()"
   ]
  },
  {
   "cell_type": "code",
   "execution_count": null,
   "metadata": {
    "collapsed": true
   },
   "outputs": [],
   "source": []
  },
  {
   "cell_type": "code",
   "execution_count": 22,
   "metadata": {
    "collapsed": true
   },
   "outputs": [],
   "source": [
    "from scipy.optimize import curve_fit"
   ]
  },
  {
   "cell_type": "code",
   "execution_count": 17,
   "metadata": {
    "collapsed": true
   },
   "outputs": [],
   "source": [
    "def func(x,a,b,c):\n",
    "    return a*x*x+b*x+c"
   ]
  },
  {
   "cell_type": "code",
   "execution_count": 50,
   "metadata": {
    "collapsed": true
   },
   "outputs": [],
   "source": [
    "def sin(x,a,b,c,d):\n",
    "    return a*np.sin(b*x+c)+d"
   ]
  },
  {
   "cell_type": "code",
   "execution_count": 53,
   "metadata": {},
   "outputs": [
    {
     "data": {
      "text/plain": [
       "array([ -8.28114246e+03,   2.57372490e+00,  -1.20844873e+01,\n",
       "        -8.28074392e+03])"
      ]
     },
     "execution_count": 53,
     "metadata": {},
     "output_type": "execute_result"
    }
   ],
   "source": [
    "popt=curve_fit(sin,freqs[:50]/1e9,y[:50]*100,maxfev=1000000)[0]\n",
    "popt"
   ]
  },
  {
   "cell_type": "code",
   "execution_count": 36,
   "metadata": {},
   "outputs": [
    {
     "ename": "NameError",
     "evalue": "name 'func' is not defined",
     "output_type": "error",
     "traceback": [
      "\u001b[1;31m---------------------------------------------------------------------------\u001b[0m",
      "\u001b[1;31mNameError\u001b[0m                                 Traceback (most recent call last)",
      "\u001b[1;32m<ipython-input-36-0602a031603b>\u001b[0m in \u001b[0;36m<module>\u001b[1;34m()\u001b[0m\n\u001b[1;32m----> 1\u001b[1;33m \u001b[0mpopt\u001b[0m\u001b[1;33m=\u001b[0m\u001b[0mcurve_fit\u001b[0m\u001b[1;33m(\u001b[0m\u001b[0mfunc\u001b[0m\u001b[1;33m,\u001b[0m\u001b[0mrange\u001b[0m\u001b[1;33m(\u001b[0m\u001b[1;36m29\u001b[0m\u001b[1;33m,\u001b[0m\u001b[1;36m59\u001b[0m\u001b[1;33m)\u001b[0m\u001b[1;33m,\u001b[0m\u001b[0mfreqs\u001b[0m\u001b[1;33m[\u001b[0m\u001b[0margmaxs\u001b[0m\u001b[1;33m[\u001b[0m\u001b[1;36m29\u001b[0m\u001b[1;33m:\u001b[0m\u001b[1;36m59\u001b[0m\u001b[1;33m]\u001b[0m\u001b[1;33m]\u001b[0m\u001b[1;33m)\u001b[0m\u001b[1;33m[\u001b[0m\u001b[1;36m0\u001b[0m\u001b[1;33m]\u001b[0m\u001b[1;33m\u001b[0m\u001b[0m\n\u001b[0m\u001b[0;32m      2\u001b[0m \u001b[0mpopt\u001b[0m\u001b[1;33m\u001b[0m\u001b[0m\n",
      "\u001b[1;31mNameError\u001b[0m: name 'func' is not defined"
     ]
    }
   ],
   "source": [
    "popt=curve_fit(func,range(29,59),freqs[argmaxs[29:59]])[0]\n",
    "popt"
   ]
  },
  {
   "cell_type": "code",
   "execution_count": 55,
   "metadata": {},
   "outputs": [
    {
     "data": {
      "text/plain": [
       "[<matplotlib.lines.Line2D at 0x7f06dc150d68>]"
      ]
     },
     "execution_count": 55,
     "metadata": {},
     "output_type": "execute_result"
    }
   ],
   "source": [
    "plt.plot(freqs[:50]/1e9,sin(freqs[:50]/1e9,popt[0],popt[1],popt[2],popt[3]))"
   ]
  },
  {
   "cell_type": "code",
   "execution_count": 22,
   "metadata": {},
   "outputs": [
    {
     "data": {
      "text/plain": [
       "(6532248509.1985798, -0.00096250000000000003)"
      ]
     },
     "execution_count": 22,
     "metadata": {},
     "output_type": "execute_result"
    }
   ],
   "source": [
    "min(func(x,popt[0],popt[1],popt[2])),curr[int(x[np.argmin(func(x,popt[0],popt[1],popt[2]))])]"
   ]
  },
  {
   "cell_type": "code",
   "execution_count": 25,
   "metadata": {},
   "outputs": [
    {
     "data": {
      "text/plain": [
       "6500200000.0"
      ]
     },
     "execution_count": 25,
     "metadata": {},
     "output_type": "execute_result"
    }
   ],
   "source": [
    "freqs[int(x[np.argmin(func(x,popt[0],popt[1],popt[2]))])]"
   ]
  },
  {
   "cell_type": "code",
   "execution_count": 20,
   "metadata": {
    "collapsed": true
   },
   "outputs": [],
   "source": [
    "x= np.linspace(29,59,1000)"
   ]
  },
  {
   "cell_type": "code",
   "execution_count": 95,
   "metadata": {},
   "outputs": [
    {
     "data": {
      "text/plain": [
       "-0.00096250000000000003"
      ]
     },
     "execution_count": 95,
     "metadata": {},
     "output_type": "execute_result"
    }
   ],
   "source": [
    "curr[43]"
   ]
  },
  {
   "cell_type": "code",
   "execution_count": 97,
   "metadata": {},
   "outputs": [
    {
     "data": {
      "text/plain": [
       "6532301082.6936073"
      ]
     },
     "execution_count": 97,
     "metadata": {},
     "output_type": "execute_result"
    }
   ],
   "source": [
    "min(func(np.linspace(26,62,1000),popt[0],popt[1],popt[2]))"
   ]
  },
  {
   "cell_type": "code",
   "execution_count": 91,
   "metadata": {
    "scrolled": true
   },
   "outputs": [
    {
     "data": {
      "text/plain": [
       "477"
      ]
     },
     "execution_count": 91,
     "metadata": {},
     "output_type": "execute_result"
    }
   ],
   "source": [
    "np.argmin(func(np.linspace(26,62,1000),popt[0],popt[1],popt[2]))"
   ]
  },
  {
   "cell_type": "code",
   "execution_count": 288,
   "metadata": {},
   "outputs": [
    {
     "data": {
      "text/plain": [
       "<matplotlib.collections.QuadMesh at 0x7f06c502d160>"
      ]
     },
     "execution_count": 288,
     "metadata": {},
     "output_type": "execute_result"
    }
   ],
   "source": [
    "fig, axes = plt.subplots(1,2, figsize=(10,5))\n",
    "axes[0].pcolormesh(curr, freqs, np.log10(np.abs(S21).T),cmap='RdBu_r')\n",
    "axes[1].pcolormesh(curr,freqs,np.angle(S21_c).T,cmap='RdBu_r')"
   ]
  },
  {
   "cell_type": "code",
   "execution_count": null,
   "metadata": {
    "collapsed": true
   },
   "outputs": [],
   "source": []
  },
  {
   "cell_type": "code",
   "execution_count": 308,
   "metadata": {},
   "outputs": [
    {
     "data": {
      "text/plain": [
       "(101, 101)"
      ]
     },
     "execution_count": 308,
     "metadata": {},
     "output_type": "execute_result"
    }
   ],
   "source": [
    "a.shape"
   ]
  },
  {
   "cell_type": "markdown",
   "metadata": {},
   "source": [
    "divide this picture on two pictures"
   ]
  },
  {
   "cell_type": "code",
   "execution_count": 293,
   "metadata": {
    "collapsed": true
   },
   "outputs": [],
   "source": [
    ", misc\n",
    "import matplotlib.pyplot as plt\n",
    "fig = plt.figure()\n",
    "# plt.gray()  # show the filtered result in grayscale\n",
    "ax1 = fig.add_subplot(121)  # left side\n",
    "ax2 = fig.add_subplot(122)  # right side\n",
    "ascent = misc.ascent()\n",
    "result = ndimage.sobel(np.angle(S21_c))\n",
    "ax1.imshow(ascent)\n",
    "ax2.imshow(result.T)\n",
    "plt.show()"
   ]
  },
  {
   "cell_type": "markdown",
   "metadata": {},
   "source": [
    "## First qubit"
   ]
  },
  {
   "cell_type": "code",
   "execution_count": 27,
   "metadata": {
    "collapsed": true
   },
   "outputs": [],
   "source": [
    "cur1,cur2=0,100\n",
    "fr1,fr2=0,200\n",
    "curr_1=curr[cur1:cur2]*1e4\n",
    "freqs_1=freqs[fr1:fr2]/1e9\n",
    "S21_p_1=np.angle(S21_c[cur1:cur2,fr1:fr2])\n",
    "S21_a_1=np.abs(S21[cur1:cur2,fr1:fr2])\n",
    "S21_p_1_1=np.angle(S21[:,fr1:fr2])"
   ]
  },
  {
   "cell_type": "code",
   "execution_count": 28,
   "metadata": {},
   "outputs": [
    {
     "data": {
      "text/plain": [
       "<matplotlib.colorbar.Colorbar at 0x7fa7a8687278>"
      ]
     },
     "execution_count": 28,
     "metadata": {},
     "output_type": "execute_result"
    }
   ],
   "source": [
    "plt.pcolormesh(curr_1,freqs_1,np.log10(np.abs(S21_a_1)).T,cmap=\"RdBu_r\")\n",
    "plt.colorbar()"
   ]
  },
  {
   "cell_type": "code",
   "execution_count": 30,
   "metadata": {},
   "outputs": [
    {
     "data": {
      "text/plain": [
       "<matplotlib.colorbar.Colorbar at 0x7f649808beb8>"
      ]
     },
     "execution_count": 30,
     "metadata": {},
     "output_type": "execute_result"
    }
   ],
   "source": [
    "plt.pcolormesh(curr_1, freqs_1, np.log10(S21_a_1.T),cmap='RdBu_r')\n",
    "plt.colorbar()\n",
    "plt.savefig('Anti-222.png')"
   ]
  },
  {
   "cell_type": "code",
   "execution_count": 28,
   "metadata": {},
   "outputs": [
    {
     "ename": "TypeError",
     "evalue": "'AxesSubplot' object does not support indexing",
     "output_type": "error",
     "traceback": [
      "\u001b[1;31m---------------------------------------------------------------------------\u001b[0m",
      "\u001b[1;31mTypeError\u001b[0m                                 Traceback (most recent call last)",
      "\u001b[1;32m<ipython-input-28-64591fe4155b>\u001b[0m in \u001b[0;36m<module>\u001b[1;34m()\u001b[0m\n\u001b[0;32m      1\u001b[0m \u001b[0mfig\u001b[0m\u001b[1;33m,\u001b[0m \u001b[0maxes\u001b[0m \u001b[1;33m=\u001b[0m \u001b[0mplt\u001b[0m\u001b[1;33m.\u001b[0m\u001b[0msubplots\u001b[0m\u001b[1;33m(\u001b[0m\u001b[1;36m1\u001b[0m\u001b[1;33m,\u001b[0m\u001b[1;36m1\u001b[0m\u001b[1;33m,\u001b[0m \u001b[0mfigsize\u001b[0m\u001b[1;33m=\u001b[0m\u001b[1;33m(\u001b[0m\u001b[1;36m10\u001b[0m\u001b[1;33m,\u001b[0m\u001b[1;36m5\u001b[0m\u001b[1;33m)\u001b[0m\u001b[1;33m)\u001b[0m\u001b[1;33m\u001b[0m\u001b[0m\n\u001b[1;32m----> 2\u001b[1;33m \u001b[0maxes\u001b[0m\u001b[1;33m[\u001b[0m\u001b[1;36m0\u001b[0m\u001b[1;33m]\u001b[0m\u001b[1;33m.\u001b[0m\u001b[0mpcolormesh\u001b[0m\u001b[1;33m(\u001b[0m\u001b[0mcurr_1\u001b[0m\u001b[1;33m,\u001b[0m \u001b[0mfreqs_1\u001b[0m\u001b[1;33m,\u001b[0m \u001b[0mnp\u001b[0m\u001b[1;33m.\u001b[0m\u001b[0mlog10\u001b[0m\u001b[1;33m(\u001b[0m\u001b[0mS21_a_1\u001b[0m\u001b[1;33m.\u001b[0m\u001b[0mT\u001b[0m\u001b[1;33m)\u001b[0m\u001b[1;33m,\u001b[0m\u001b[0mcmap\u001b[0m\u001b[1;33m=\u001b[0m\u001b[1;34m'RdBu_r'\u001b[0m\u001b[1;33m)\u001b[0m\u001b[1;33m\u001b[0m\u001b[0m\n\u001b[0m\u001b[0;32m      3\u001b[0m \u001b[1;31m#axes[1].pcolormesh(curr_1, freqs_1, np.log10(np.abs(S21_p_1.T))*10,cmap='RdBu_r')\u001b[0m\u001b[1;33m\u001b[0m\u001b[1;33m\u001b[0m\u001b[0m\n",
      "\u001b[1;31mTypeError\u001b[0m: 'AxesSubplot' object does not support indexing"
     ]
    }
   ],
   "source": [
    "fig, axes = plt.subplots(1,2, figsize=(10,5))\n",
    "axes[0].pcolormesh(curr_1, freqs_1, np.log10(S21_a_1.T),cmap='RdBu_r')\n",
    "#axes[1].pcolormesh(curr_1, freqs_1, np.log10(np.abs(S21_p_1.T))*10,cmap='RdBu_r')"
   ]
  },
  {
   "cell_type": "markdown",
   "metadata": {},
   "source": [
    "## second qubit"
   ]
  },
  {
   "cell_type": "code",
   "execution_count": 23,
   "metadata": {
    "collapsed": true
   },
   "outputs": [],
   "source": [
    "curr_2=curr[:250]\n",
    "freqs_2=freqs[600:1000]\n",
    "S21_p_2=np.angle(S21_c[:250,600:1000])\n",
    "S21_a_2=S21[:250,600:1000]"
   ]
  },
  {
   "cell_type": "code",
   "execution_count": 22,
   "metadata": {},
   "outputs": [
    {
     "ename": "TypeError",
     "evalue": "'AxesSubplot' object does not support indexing",
     "output_type": "error",
     "traceback": [
      "\u001b[1;31m---------------------------------------------------------------------------\u001b[0m",
      "\u001b[1;31mTypeError\u001b[0m                                 Traceback (most recent call last)",
      "\u001b[1;32m<ipython-input-22-16a65e6567c5>\u001b[0m in \u001b[0;36m<module>\u001b[1;34m()\u001b[0m\n\u001b[0;32m      1\u001b[0m \u001b[0mfig\u001b[0m\u001b[1;33m,\u001b[0m \u001b[0maxes\u001b[0m \u001b[1;33m=\u001b[0m \u001b[0mplt\u001b[0m\u001b[1;33m.\u001b[0m\u001b[0msubplots\u001b[0m\u001b[1;33m(\u001b[0m\u001b[1;36m1\u001b[0m\u001b[1;33m,\u001b[0m\u001b[1;36m1\u001b[0m\u001b[1;33m,\u001b[0m \u001b[0mfigsize\u001b[0m\u001b[1;33m=\u001b[0m\u001b[1;33m(\u001b[0m\u001b[1;36m10\u001b[0m\u001b[1;33m,\u001b[0m\u001b[1;36m5\u001b[0m\u001b[1;33m)\u001b[0m\u001b[1;33m)\u001b[0m\u001b[1;33m\u001b[0m\u001b[0m\n\u001b[1;32m----> 2\u001b[1;33m \u001b[0maxes\u001b[0m\u001b[1;33m[\u001b[0m\u001b[1;36m0\u001b[0m\u001b[1;33m]\u001b[0m\u001b[1;33m.\u001b[0m\u001b[0mpcolormesh\u001b[0m\u001b[1;33m(\u001b[0m\u001b[0mcurr_2\u001b[0m\u001b[1;33m,\u001b[0m \u001b[0mfreqs_2\u001b[0m\u001b[1;33m,\u001b[0m\u001b[0mnp\u001b[0m\u001b[1;33m.\u001b[0m\u001b[0mlog10\u001b[0m\u001b[1;33m(\u001b[0m\u001b[0mnp\u001b[0m\u001b[1;33m.\u001b[0m\u001b[0mabs\u001b[0m\u001b[1;33m(\u001b[0m\u001b[0mS21_a_2\u001b[0m\u001b[1;33m.\u001b[0m\u001b[0mT\u001b[0m\u001b[1;33m)\u001b[0m\u001b[1;33m)\u001b[0m\u001b[1;33m,\u001b[0m\u001b[0mcmap\u001b[0m\u001b[1;33m=\u001b[0m\u001b[1;34m'RdBu_r'\u001b[0m\u001b[1;33m)\u001b[0m\u001b[1;33m\u001b[0m\u001b[0m\n\u001b[0m\u001b[0;32m      3\u001b[0m \u001b[1;31m# axes[1].pcolormesh(curr_2, freqs_2, np.log10(np.abs(S21_p_2).T),cmap='RdBu_r')\u001b[0m\u001b[1;33m\u001b[0m\u001b[1;33m\u001b[0m\u001b[0m\n",
      "\u001b[1;31mTypeError\u001b[0m: 'AxesSubplot' object does not support indexing"
     ]
    }
   ],
   "source": [
    "fig, axes = plt.subplots(1,1, figsize=(10,5))\n",
    "axes[0].pcolormesh(curr_2, freqs_2,np.log10(np.abs(S21_a_2.T)),cmap='RdBu_r')\n",
    "# axes[1].pcolormesh(curr_2, freqs_2, np.log10(np.abs(S21_p_2).T),cmap='RdBu_r')"
   ]
  },
  {
   "cell_type": "markdown",
   "metadata": {},
   "source": [
    "## Modeling"
   ]
  },
  {
   "cell_type": "code",
   "execution_count": 11,
   "metadata": {
    "collapsed": true
   },
   "outputs": [],
   "source": [
    "import matplotlib.pyplot as plt\n",
    "import numpy as np\n",
    "from numpy import pi\n",
    "\n",
    "from qutip import *"
   ]
  },
  {
   "cell_type": "code",
   "execution_count": 15,
   "metadata": {
    "collapsed": true
   },
   "outputs": [],
   "source": [
    "#N = 20\n",
    "Nt = 2 # number of transmon states considered\n",
    "Nr = 2 # number of resonator mode states considered\n",
    "\n",
    "# system parameter\n",
    "\n",
    "wr = 6.532 * 2 * pi   \n",
    "wq = 8.2* 2 * pi\n",
    "g = 0.060 * 2* pi"
   ]
  },
  {
   "cell_type": "code",
   "execution_count": 16,
   "metadata": {
    "collapsed": true
   },
   "outputs": [],
   "source": [
    "a = tensor(destroy(Nr), qeye(Nt))\n",
    "nc = a.dag() * a\n",
    "xc = a + a.dag()\n",
    "yc = 1j*(a - a.dag())\n",
    "\n",
    "# atomic operators\n",
    "sm = tensor(qeye(Nr), destroy(2))\n",
    "sz = tensor(qeye(Nr), sigmaz())\n",
    "sx = tensor(qeye(Nr), sigmax())\n",
    "nq = sm.dag() * sm\n",
    "xq = sm + sm.dag()\n",
    "\n",
    "I = tensor(qeye(Nr), qeye(Nt))"
   ]
  },
  {
   "cell_type": "code",
   "execution_count": 17,
   "metadata": {
    "collapsed": true
   },
   "outputs": [],
   "source": [
    "H = wr * (a.dag() * a + I/2.0) + (wq / 2.0) * sz + g * xc * xq # Jaynes-Cummings Hamiltonian\n",
    "#RWA"
   ]
  },
  {
   "cell_type": "code",
   "execution_count": 19,
   "metadata": {},
   "outputs": [
    {
     "name": "stdout",
     "output_type": "stream",
     "text": [
      "CPU times: user 1.99 s, sys: 4 ms, total: 1.99 s\n",
      "Wall time: 1.97 s\n"
     ]
    }
   ],
   "source": [
    "%%time\n",
    "flux_points = 1025\n",
    "spectral_lines = np.zeros((2, flux_points))\n",
    "wq_flux_dep = np.zeros((flux_points))\n",
    "fluxes = np.linspace(-1,1, flux_points) #in flux quanta\n",
    "for flux_id, flux in enumerate(fluxes):\n",
    "    wq_flux = wq*np.sqrt(np.abs(np.cos(flux*np.pi)))\n",
    "    H_spectral = wr * (a.dag() * a + I/2.0) + (wq_flux / 2.0) * sz + g * xc * xq # Jaynes-Cummings Hamiltonian\n",
    "    energies= H_spectral.eigenenergies()\n",
    "    ground_state_energy = energies[0]\n",
    "    spectral_lines[:, flux_id] = np.sort(energies[1:3]-ground_state_energy)/(2*np.pi) # 0->1 and 1->2 transitions only"
   ]
  },
  {
   "cell_type": "code",
   "execution_count": 20,
   "metadata": {},
   "outputs": [
    {
     "data": {
      "text/plain": [
       "array([ -5.24171192,  35.78804655,  46.2954863 ,  87.32524477])"
      ]
     },
     "execution_count": 20,
     "metadata": {},
     "output_type": "execute_result"
    }
   ],
   "source": [
    "energies"
   ]
  },
  {
   "cell_type": "code",
   "execution_count": 21,
   "metadata": {
    "collapsed": true
   },
   "outputs": [],
   "source": [
    "plt.plot(fluxes, spectral_lines.T, linewidth=3)\n",
    "plt.show()"
   ]
  },
  {
   "cell_type": "code",
   "execution_count": null,
   "metadata": {
    "collapsed": true
   },
   "outputs": [],
   "source": []
  },
  {
   "cell_type": "code",
   "execution_count": 9,
   "metadata": {
    "collapsed": true
   },
   "outputs": [],
   "source": [
    "%matplotlib qt5"
   ]
  },
  {
   "cell_type": "code",
   "execution_count": 53,
   "metadata": {},
   "outputs": [
    {
     "data": {
      "application/vnd.jupyter.widget-view+json": {
       "model_id": "87deadbd5a964985bd736a3e1db042e8",
       "version_major": 2,
       "version_minor": 0
      },
      "text/html": [
       "<p>Failed to display Jupyter Widget of type <code>interactive</code>.</p>\n",
       "<p>\n",
       "  If you're reading this message in Jupyter Notebook or JupyterLab, it may mean\n",
       "  that the widgets JavaScript is still loading. If this message persists, it\n",
       "  likely means that the widgets JavaScript library is either not installed or\n",
       "  not enabled. See the <a href=\"https://ipywidgets.readthedocs.io/en/stable/user_install.html\">Jupyter\n",
       "  Widgets Documentation</a> for setup instructions.\n",
       "</p>\n",
       "<p>\n",
       "  If you're reading this message in another notebook frontend (for example, a static\n",
       "  rendering on GitHub or <a href=\"https://nbviewer.jupyter.org/\">NBViewer</a>),\n",
       "  it may mean that your frontend doesn't currently support widgets.\n",
       "</p>\n"
      ],
      "text/plain": [
       "interactive(children=(FloatSlider(value=0.55, description='fl', max=1.0, min=0.1, step=0.01), Output()), _dom_classes=('widget-interact',))"
      ]
     },
     "metadata": {},
     "output_type": "display_data"
    }
   ],
   "source": [
    "fl=0.27\n",
    "fig, axes = plt.subplots(1,2, figsize=(10,5))\n",
    "axes[0].pcolormesh(curr_1, freqs_1, np.log10(S21_a_1.T),cmap='RdBu_r')\n",
    "axes[1].pcolormesh(curr_1, freqs_1, np.log10(np.abs(S21_p_1.T))*10,cmap='RdBu_r')\n",
    "ax_lims = axes[1].get_xlim()\n",
    "axes[1].set_ylim(axes[0].get_ylim())\n",
    "axes[1].set_xlim(ax_lims)\n",
    "a=axes[1].plot(fluxes+fl, spectral_lines.T, linewidth=3)[0]\n",
    "\n",
    "def f(fl):\n",
    "#     global fluxes,spectral_lines\n",
    "#     print(fluxes,spectral_lines.T)\n",
    "    a.set_data(fluxes, spectral_lines[1].T)\n",
    "    plt.show()\n",
    "# axes[1].plot(curr_1,6*np.abs(curr_1))\n",
    "interactive(f, fl=(0.1,1.0,0.01))"
   ]
  },
  {
   "cell_type": "code",
   "execution_count": 71,
   "metadata": {},
   "outputs": [
    {
     "data": {
      "text/plain": [
       "<matplotlib.colorbar.Colorbar at 0x7f80c7508cc0>"
      ]
     },
     "execution_count": 71,
     "metadata": {},
     "output_type": "execute_result"
    }
   ],
   "source": [
    "plt.figure(1)\n",
    "ax1= plt.imshow(np.log10(S21_a_1.T),cmap='RdBu_r')\n",
    "plt.title(\"real\")\n",
    "plt.colorbar()"
   ]
  },
  {
   "cell_type": "code",
   "execution_count": 65,
   "metadata": {},
   "outputs": [
    {
     "data": {
      "text/plain": [
       "[<matplotlib.lines.Line2D at 0x7f80c7966390>,\n",
       " <matplotlib.lines.Line2D at 0x7f80c7966cc0>]"
      ]
     },
     "execution_count": 65,
     "metadata": {},
     "output_type": "execute_result"
    }
   ],
   "source": [
    "fl=0.27\n",
    "fig, axes = plt.subplots(1,2, figsize=(10,5))\n",
    "axes[0].pcolormesh(curr_1, freqs_1, np.log10(S21_a_1.T),cmap='RdBu_r')\n",
    "axes[1].pcolormesh(curr_1, freqs_1, np.log10(np.abs(S21_p_1.T))*10,cmap='RdBu_r')\n",
    "ax_lims = axes[1].get_xlim()\n",
    "axes[1].set_ylim(axes[0].get_ylim())\n",
    "axes[1].set_xlim(ax_lims)\n",
    "axes[1].plot(fluxes+fl, spectral_lines.T, linewidth=3)"
   ]
  },
  {
   "cell_type": "code",
   "execution_count": 22,
   "metadata": {
    "collapsed": true
   },
   "outputs": [],
   "source": [
    "from ipywidgets import interactive"
   ]
  },
  {
   "cell_type": "code",
   "execution_count": 83,
   "metadata": {},
   "outputs": [
    {
     "name": "stdout",
     "output_type": "stream",
     "text": [
      "Warning: Cannot change to a different GUI toolkit: notebook. Using qt5 instead.\n"
     ]
    }
   ],
   "source": [
    "%matplotlib notebook"
   ]
  },
  {
   "cell_type": "code",
   "execution_count": 23,
   "metadata": {},
   "outputs": [
    {
     "ename": "NameError",
     "evalue": "name 'curr_1' is not defined",
     "output_type": "error",
     "traceback": [
      "\u001b[1;31m---------------------------------------------------------------------------\u001b[0m",
      "\u001b[1;31mNameError\u001b[0m                                 Traceback (most recent call last)",
      "\u001b[1;32m<ipython-input-23-60e346e086d7>\u001b[0m in \u001b[0;36m<module>\u001b[1;34m()\u001b[0m\n\u001b[0;32m      1\u001b[0m \u001b[0mplt\u001b[0m\u001b[1;33m.\u001b[0m\u001b[0mfigure\u001b[0m\u001b[1;33m(\u001b[0m\u001b[1;36m1\u001b[0m\u001b[1;33m)\u001b[0m\u001b[1;33m\u001b[0m\u001b[0m\n\u001b[1;32m----> 2\u001b[1;33m \u001b[0max\u001b[0m\u001b[1;33m=\u001b[0m\u001b[0mplt\u001b[0m\u001b[1;33m.\u001b[0m\u001b[0mpcolormesh\u001b[0m\u001b[1;33m(\u001b[0m\u001b[0mcurr_1\u001b[0m\u001b[1;33m,\u001b[0m \u001b[0mfreqs_1\u001b[0m\u001b[1;33m,\u001b[0m \u001b[0mnp\u001b[0m\u001b[1;33m.\u001b[0m\u001b[0mlog10\u001b[0m\u001b[1;33m(\u001b[0m\u001b[0mnp\u001b[0m\u001b[1;33m.\u001b[0m\u001b[0mabs\u001b[0m\u001b[1;33m(\u001b[0m\u001b[0mS21_p_1\u001b[0m\u001b[1;33m.\u001b[0m\u001b[0mT\u001b[0m\u001b[1;33m)\u001b[0m\u001b[1;33m)\u001b[0m\u001b[1;33m*\u001b[0m\u001b[1;36m10\u001b[0m\u001b[1;33m,\u001b[0m\u001b[0mcmap\u001b[0m\u001b[1;33m=\u001b[0m\u001b[1;34m'RdBu_r'\u001b[0m\u001b[1;33m)\u001b[0m\u001b[1;33m\u001b[0m\u001b[0m\n\u001b[0m\u001b[0;32m      3\u001b[0m \u001b[0mplt\u001b[0m\u001b[1;33m.\u001b[0m\u001b[0mcolorbar\u001b[0m\u001b[1;33m(\u001b[0m\u001b[1;33m)\u001b[0m\u001b[1;33m\u001b[0m\u001b[0m\n\u001b[0;32m      4\u001b[0m \u001b[0mgr\u001b[0m\u001b[1;33m=\u001b[0m\u001b[0mplt\u001b[0m\u001b[1;33m.\u001b[0m\u001b[0mplot\u001b[0m\u001b[1;33m(\u001b[0m\u001b[1;33m[\u001b[0m\u001b[1;33m]\u001b[0m\u001b[1;33m,\u001b[0m\u001b[1;33m[\u001b[0m\u001b[1;33m]\u001b[0m\u001b[1;33m)\u001b[0m\u001b[1;33m[\u001b[0m\u001b[1;36m0\u001b[0m\u001b[1;33m]\u001b[0m\u001b[1;33m\u001b[0m\u001b[0m\n\u001b[0;32m      5\u001b[0m \u001b[1;33m\u001b[0m\u001b[0m\n",
      "\u001b[1;31mNameError\u001b[0m: name 'curr_1' is not defined"
     ]
    }
   ],
   "source": [
    "plt.figure(1)\n",
    "ax=plt.pcolormesh(curr_1, freqs_1, np.log10(np.abs(S21_p_1.T))*10,cmap='RdBu_r')\n",
    "plt.colorbar()\n",
    "gr=plt.plot([],[])[0]\n",
    "\n",
    "def f(r,t,fl):\n",
    "    wr = 6.657 * 2 * pi      # resonator frequency, GHz\n",
    "    wq = 12.0014 * 2 * pi # qubit frequency (peak value)\n",
    "    g = 0.070 * 2* pi\n",
    "    print(r+t/1000)\n",
    "    H = wr * (a.dag() * a + I/2.0) + (wq / 2.0) * sz + g * xc * xq # Jaynes-Cummings Hamiltonian\n",
    "    #RWA\n",
    "    # plotting low-power spectrum (anticrossing positions), assuming that the qubit is an (actually linear) LC oscillator\n",
    "    # spectral lines. The lower part where the qubit stops being a transmon is wrong (but we don't care about it anyway)\n",
    "    flux_points = 257\n",
    "    spectral_lines = np.zeros((2, flux_points))\n",
    "    wq_flux_dep = np.zeros((flux_points))\n",
    "    fluxes = np.linspace(curr_1[0]-0.5, curr_1[len(curr_1)-1], flux_points) #in flux quanta\n",
    "    for flux_id, flux in enumerate(fluxes):\n",
    "        wq_flux = wq*np.sqrt(np.abs(np.cos(flux*np.pi)))\n",
    "        H_spectral = wr * (a.dag() * a + I/2.0) + (wq_flux / 2.0) * sz + g * xc * xq # Jaynes-Cummings Hamiltonian\n",
    "        energies, eigenvectors = H_spectral.eigenstates()\n",
    "        ground_state_energy = energies[0]\n",
    "        spectral_lines[:, flux_id] = np.sort(energies[1:3]-ground_state_energy)/(2*np.pi) # 0->1 and 1->2 transitions only\n",
    "        wq_flux_dep[flux_id] = wq_flux\n",
    "    gr.set_data(fluxes+fl, spectral_lines.T)\n",
    "    plt.show()\n",
    "    \n",
    "    #plt.plot(fluxes, wq_flux_dep/(2*np.pi))\n",
    "\n",
    "interactive_plot = interactive(f, fl=(0.1,1.0,0.01),r=(0.01,1.0,0.01),t=(1,10,1))\n",
    "output = interactive_plot.children[-1]\n",
    "output.layout.height = '350px'\n",
    "interactive_plot"
   ]
  },
  {
   "cell_type": "code",
   "execution_count": 53,
   "metadata": {},
   "outputs": [
    {
     "data": {
      "application/vnd.jupyter.widget-view+json": {
       "model_id": "67abb3620c934060a6ee9d0a63501dc7",
       "version_major": 2,
       "version_minor": 0
      },
      "text/html": [
       "<p>Failed to display Jupyter Widget of type <code>interactive</code>.</p>\n",
       "<p>\n",
       "  If you're reading this message in Jupyter Notebook or JupyterLab, it may mean\n",
       "  that the widgets JavaScript is still loading. If this message persists, it\n",
       "  likely means that the widgets JavaScript library is either not installed or\n",
       "  not enabled. See the <a href=\"https://ipywidgets.readthedocs.io/en/stable/user_install.html\">Jupyter\n",
       "  Widgets Documentation</a> for setup instructions.\n",
       "</p>\n",
       "<p>\n",
       "  If you're reading this message in another notebook frontend (for example, a static\n",
       "  rendering on GitHub or <a href=\"https://nbviewer.jupyter.org/\">NBViewer</a>),\n",
       "  it may mean that your frontend doesn't currently support widgets.\n",
       "</p>\n"
      ],
      "text/plain": [
       "interactive(children=(FloatSlider(value=0.0, description='fl', max=20.0, min=-20.0), FloatSlider(value=0.0, description='q2', max=3.0, min=-3.0, step=0.0001), FloatSlider(value=0.0, description='q3', max=10.0, min=-10.0), FloatSlider(value=1.0, description='a1', max=5.0, min=-2.0), Output()), _dom_classes=('widget-interact',))"
      ]
     },
     "metadata": {},
     "output_type": "display_data"
    }
   ],
   "source": [
    "%matplotlib qt5\n",
    "from ipywidgets import interactive\n",
    "import matplotlib.pyplot as plt\n",
    "import numpy as np\n",
    "plt.figure()\n",
    "x = np.linspace(-10, 10, num=1000)\n",
    "plt.figure(1)\n",
    "plt.pcolormesh(curr_1, freqs_1, np.log10(np.abs(S21_a_1.T))*10,cmap='RdBu_r')\n",
    "b, =plt.plot([],[])\n",
    "c, =plt.plot([],[])\n",
    "plt.ylim(freqs_1[0],freqs_1[len(freqs_1)-1])\n",
    "plt.xlim(curr_1[0],curr_1[len(curr_1)-1])\n",
    "plt.show()\n",
    "fl=-4\n",
    "def f( fl,q2,q3,a1):\n",
    "    wr = (6.531) * 2 * pi   \n",
    "    wq = (8.6+q2) * 2 * pi\n",
    "    g = (0.070+q3/1000) * 2* pi\n",
    "    H = wr * (a.dag() * a + I/2.0) + (wq / 2.0) * sz + g * xc * xq \n",
    "    flux_points = 257\n",
    "    spectral_lines = np.zeros((2, flux_points))\n",
    "    wq_flux_dep = np.zeros((flux_points))\n",
    "    fluxes = np.linspace(curr_1[0]-0.5, curr_1[len(curr_1)-1], flux_points) #in flux quanta\n",
    "    for flux_id, flux in enumerate(fluxes):\n",
    "        wq_flux = wq*np.sqrt(np.abs(np.cos(flux*np.pi/(11+4.2+a1))))\n",
    "        H_spectral = wr * (a.dag() * a + I/2.0) + (wq_flux / 2.0) * sz + g * xc * xq # Jaynes-Cummings Hamiltonian\n",
    "        energies, eigenvectors = H_spectral.eigenstates()\n",
    "        ground_state_energy = energies[0]\n",
    "        spectral_lines[:, flux_id] = np.sort(energies[1:3]-ground_state_energy)/(2*np.pi) # 0->1 and 1->2 transitions only\n",
    "        wq_flux_dep[flux_id] = wq_flux\n",
    "    b.set_data(fluxes+fl, spectral_lines[0])\n",
    "    c.set_data(fluxes+fl, spectral_lines[1])\n",
    "#     plt.savefig(\"anticro_ampl_1.png\",dpi=300)\n",
    "interactive(f,\n",
    "            a1=(-2, 5, 0.1),\n",
    "            fl=(-20, 20, 0.1),\n",
    "            q2=(-3, 3, 0.0001),\n",
    "            q3=(-10, 10, 0.1))"
   ]
  },
  {
   "cell_type": "code",
   "execution_count": 41,
   "metadata": {},
   "outputs": [
    {
     "data": {
      "application/vnd.jupyter.widget-view+json": {
       "model_id": "70abddd4b1bc48b5b4a2387c22dcf892",
       "version_major": 2,
       "version_minor": 0
      },
      "text/html": [
       "<p>Failed to display Jupyter Widget of type <code>interactive</code>.</p>\n",
       "<p>\n",
       "  If you're reading this message in Jupyter Notebook or JupyterLab, it may mean\n",
       "  that the widgets JavaScript is still loading. If this message persists, it\n",
       "  likely means that the widgets JavaScript library is either not installed or\n",
       "  not enabled. See the <a href=\"https://ipywidgets.readthedocs.io/en/stable/user_install.html\">Jupyter\n",
       "  Widgets Documentation</a> for setup instructions.\n",
       "</p>\n",
       "<p>\n",
       "  If you're reading this message in another notebook frontend (for example, a static\n",
       "  rendering on GitHub or <a href=\"https://nbviewer.jupyter.org/\">NBViewer</a>),\n",
       "  it may mean that your frontend doesn't currently support widgets.\n",
       "</p>\n"
      ],
      "text/plain": [
       "interactive(children=(FloatSlider(value=-6.0, description='fl', max=-1.0, min=-10.0, step=0.001), FloatSlider(value=-9.999999999999593e-06, description='q1', max=0.01, min=-0.01, step=1e-05), FloatSlider(value=4.440892098500626e-16, description='q2', max=3.0, min=-3.0, step=1e-05), FloatSlider(value=0.0, description='q3', max=0.1, min=-0.1, step=1e-05), Output()), _dom_classes=('widget-interact',))"
      ]
     },
     "metadata": {},
     "output_type": "display_data"
    }
   ],
   "source": [
    "%matplotlib qt5\n",
    "from ipywidgets import interactive\n",
    "import matplotlib.pyplot as plt\n",
    "import numpy as np\n",
    "plt.figure()\n",
    "x = np.linspace(-10, 10, num=1000)\n",
    "plt.figure(1)\n",
    "plt.pcolormesh(curr_1, freqs_1, np.log10(np.abs(S21_a_1.T))*10,cmap='RdBu_r')\n",
    "b, =plt.plot([],[])\n",
    "c, =plt.plot([],[])\n",
    "plt.ylim(freqs_1[0],freqs_1[len(freqs_1)-1])\n",
    "plt.xlim(curr_1[0],curr_1[len(curr_1)-1])\n",
    "plt.show()\n",
    "wr = (6.532) * 2 * pi   \n",
    "wq = (8.6) * 2 * pi\n",
    "g = (0.00) * 2* pi\n",
    "H = wr * (a.dag() * a + I/2.0) + (wq / 2.0) * sz + g * xc * xq \n",
    "flux_points = 257\n",
    "spectral_lines = np.zeros((2, flux_points))\n",
    "wq_flux_dep = np.zeros((flux_points))\n",
    "fluxes = np.linspace(curr_1[0]-0.5, curr_1[len(curr_1)-1], flux_points) #in flux quanta\n",
    "for flux_id, flux in enumerate(fluxes):\n",
    "        wq_flux = wq*np.sqrt(np.abs(np.cos(flux*np.pi/12)))\n",
    "        H_spectral = wr * (a.dag() * a + I/2.0) + (wq_flux / 2.0) * sz + g * xc * xq # Jaynes-Cummings Hamiltonian\n",
    "        energies, eigenvectors = H_spectral.eigenstates()\n",
    "        ground_state_energy = energies[0]\n",
    "        spectral_lines[:, flux_id] = np.sort(energies[1:3]-ground_state_energy)/(2*np.pi) # 0->1 and 1->2 transitions only\n",
    "        wq_flux_dep[flux_id] = wq_flux\n",
    "def f(fl, q1,q2,q3):\n",
    "    print(fl)\n",
    "    \n",
    "    \n",
    "    b.set_data(fluxes+fl, spectral_lines[0])\n",
    "    c.set_data(fluxes+fl, spectral_lines[1])\n",
    "interactive(f, fl=(-10,-1, 0.001),\n",
    "            q1=(-0.01, 0.01, 0.00001),\n",
    "            q2=(-3, 3, 0.00001),\n",
    "            q3=(-0.1, 0.1, 0.00001))"
   ]
  },
  {
   "cell_type": "code",
   "execution_count": null,
   "metadata": {
    "collapsed": true
   },
   "outputs": [],
   "source": [
    "import matplotlib\n",
    "%matplotlib inline\n",
    "matplotlib.rcParams.update({'font.size': 18})\n",
    "S21 = 10**(tt[1][3]/10)*np.exp(1j*tt[1][4])\n",
    "delta = np.abs(S21.T-np.mean(S21.T, axis=0))\n",
    "figs, axes = plt.subplots(1,2, figsize=(18,6))\n",
    "axes[0].ticklabel_format(axis='x', style='sci', scilimits=(-2,2))\n",
    "axes[0].pcolormesh(tt[1][0]*1e6, tt[1][1]/1e9, delta, vmin=0, vmax=5e-3)\n",
    "axes[0].set_xlabel('Ток соленоида, мкА')\n",
    "axes[0].set_ylabel('Частота, ГГц')\n",
    "axes[1].pcolormesh(tt[1][0]*0.62e4+0.105, tt[1][1]/1e9, delta, vmin=0, vmax=5e-3)\n",
    "plt.colorbar(axes[1].get_children()[0])\n",
    "ax_lims = axes[1].get_xlim()\n",
    "axes[1].plot(fluxes, spectral_lines.T, linewidth=2)\n",
    "axes[1].set_xlabel('Внешний поток $\\\\Phi/\\\\Phi_0$')\n",
    "axes[1].set_ylim(axes[0].get_ylim())\n",
    "axes[1].set_xlim(ax_lims)"
   ]
  }
 ],
 "metadata": {
  "kernelspec": {
   "display_name": "Python 3",
   "language": "python",
   "name": "python3"
  },
  "language_info": {
   "codemirror_mode": {
    "name": "ipython",
    "version": 3
   },
   "file_extension": ".py",
   "mimetype": "text/x-python",
   "name": "python",
   "nbconvert_exporter": "python",
   "pygments_lexer": "ipython3",
   "version": "3.5.2"
  }
 },
 "nbformat": 4,
 "nbformat_minor": 2
}
