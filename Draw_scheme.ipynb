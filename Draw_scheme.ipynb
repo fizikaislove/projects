{
 "cells": [
  {
   "cell_type": "code",
   "execution_count": 11,
   "metadata": {
    "collapsed": false
   },
   "outputs": [],
   "source": [
    "import SchemDraw\n",
    "import SchemDraw.elements as e"
   ]
  },
  {
   "cell_type": "code",
   "execution_count": 10,
   "metadata": {
    "collapsed": false
   },
   "outputs": [
    {
     "data": {
      "image/png": "[encoded data removed]",
      "text/plain": [
       "<matplotlib.figure.Figure at 0x5bb81f518>"
      ]
     },
     "metadata": {},
     "output_type": "display_data"
    }
   ],
   "source": [
    "d = SchemDraw.Drawing()\n",
    "d.add(e.GND)\n",
    "JJ1 =  d.add(e.JJ, d='up', l=d.unit/2., label='$JJ_1$')\n",
    "d.add(e.LINE, d='right', l=d.unit/2.)\n",
    "d.add(e.DOT,label=\"1\",loc='rgt')\n",
    "d.push()\n",
    "CAP1 = d.add(e.CAP, d='down', l=d.unit/2., label='$C_{q_1}$')\n",
    "\n",
    "d.add(e.LINE, d='left', l=d.unit/2.)\n",
    "d.pop()\n",
    "CAP2 = d.add(e.CAP, d='right', l=d.unit/2., label='$C_1$')\n",
    "d.push()\n",
    "d.add(e.DOT,label=\"2\",loc='rgt')\n",
    "CAP3 = d.add(e.CAP, d='down', l=d.unit/2., label='$C_r$')\n",
    "d.add(e.GND)\n",
    "d.pop()\n",
    "d.add(e.LINE, d='right', l=d.unit/2.)\n",
    "d.push()\n",
    "IND1 = d.add(e.INDUCTOR, d='down', l=d.unit/2., label='$L_{r}$')\n",
    "d.add(e.LINE, d='left', l=d.unit/2.)\n",
    "d.pop()\n",
    "CAP4 = d.add(e.CAP, d='right', l=d.unit/2., label='$C_2$')\n",
    "d.push()\n",
    "d.add(e.LINE, d='up', l=d.unit/2.)\n",
    "IND2=d.add(e.INDUCTOR, d='left',l=d.unit/2.,label='$L_2$')\n",
    "d.add(e.LINE, d='down', l=d.unit/2.)\n",
    "d.pop()\n",
    "d.add(e.LINE,d='right', l=d.unit/2.)\n",
    "d.add(e.DOT,label=\"3\",loc='bot')\n",
    "CAP5 = d.add(e.CAP, d='down', l=d.unit/2.)\n",
    "CAP5.add_label('$С_{q_2}$',loc=\"bot\")\n",
    "d.add(e.LINE, d='right', l=d.unit/2.)\n",
    "d.add(e.GND)\n",
    "JJ2 =  d.add(e.JJ, d='up', l=d.unit/2.)\n",
    "JJ2.add_label('$JJ_2$',loc=\"bot\")\n",
    "d.add(e.LINE,d=\"left\")\n",
    "d.draw()\n",
    "d.save('scheme',dpi=300)"
   ]
  },
  {
   "cell_type": "code",
   "execution_count": 12,
   "metadata": {
    "collapsed": true
   },
   "outputs": [],
   "source": [
    "%matplotlib inline"
   ]
  },
  {
   "cell_type": "code",
   "execution_count": 18,
   "metadata": {
    "collapsed": false
   },
   "outputs": [
    {
     "data": {
      "image/png": "[encoded data removed]",
      "text/plain": [
       "<matplotlib.figure.Figure at 0x5bb96c358>"
      ]
     },
     "metadata": {},
     "output_type": "display_data"
    }
   ],
   "source": [
    "d = SchemDraw.Drawing()\n",
    "# d.add(e.GND)\n",
    "JJ1 =  d.add(e.JJ, d='up', l=d.unit/2., label='$JJ_1$')\n",
    "d.add(e.LINE, d='right', l=d.unit/2.)\n",
    "# d.add(e.DOT,label=\"1\",loc='rgt')\n",
    "d.push()\n",
    "CAP1 = d.add(e.CAP, d='down', l=d.unit/2., label='$C_{q_1}$')\n",
    "\n",
    "d.add(e.LINE, d='left', l=d.unit/2.)\n",
    "\n",
    "d.draw()\n",
    "d.save(\"transmon.png\")"
   ]
  },
  {
   "cell_type": "code",
   "execution_count": null,
   "metadata": {
    "collapsed": true
   },
   "outputs": [],
   "source": []
  }
 ],
 "metadata": {
  "kernelspec": {
   "display_name": "Python 3",
   "language": "python",
   "name": "python3"
  },
  "language_info": {
   "codemirror_mode": {
    "name": "ipython",
    "version": 3
   },
   "file_extension": ".py",
   "mimetype": "text/x-python",
   "name": "python",
   "nbconvert_exporter": "python",
   "pygments_lexer": "ipython3",
   "version": "3.5.1"
  }
 },
 "nbformat": 4,
 "nbformat_minor": 1
}
