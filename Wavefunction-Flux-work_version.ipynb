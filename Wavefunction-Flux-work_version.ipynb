{
 "cells": [
  {
   "cell_type": "code",
   "execution_count": 1,
   "metadata": {
    "collapsed": true
   },
   "outputs": [],
   "source": [
    "import matplotlib.pyplot as plt\n",
    "import numpy as np"
   ]
  },
  {
   "cell_type": "code",
   "execution_count": 7,
   "metadata": {
    "collapsed": true
   },
   "outputs": [],
   "source": [
    "%matplotlib inline"
   ]
  },
  {
   "cell_type": "markdown",
   "metadata": {},
   "source": [
    "## Parameters"
   ]
  },
  {
   "cell_type": "code",
   "execution_count": 3,
   "metadata": {
    "collapsed": true
   },
   "outputs": [],
   "source": [
    "pi = 3.1415\n",
    "k=2.46 #E_C\n",
    "x_min = -3*pi\n",
    "x_max =  3*pi\n",
    "N = 1000 #число отрезков  на интервале\n",
    "x = np.linspace(x_min, x_max, N) #точки вычисления"
   ]
  },
  {
   "cell_type": "markdown",
   "metadata": {},
   "source": [
    "# Def potential"
   ]
  },
  {
   "cell_type": "code",
   "execution_count": 4,
   "metadata": {
    "collapsed": true
   },
   "outputs": [],
   "source": [
    "def U_fl(x,pi):\n",
    "    a = 0.545 # Е_L\n",
    "    b = 10.2 # E_J b>0\n",
    "    c = 0\n",
    "    u = (1/2)*a*(x**2)-b*np.cos(x-2*pi*c)\n",
    "    return u"
   ]
  },
  {
   "cell_type": "code",
   "execution_count": 5,
   "metadata": {
    "collapsed": true
   },
   "outputs": [],
   "source": [
    "U = U_fl(x,pi)"
   ]
  },
  {
   "cell_type": "markdown",
   "metadata": {},
   "source": [
    "## Plot potential"
   ]
  },
  {
   "cell_type": "code",
   "execution_count": 6,
   "metadata": {
    "collapsed": true,
    "scrolled": true
   },
   "outputs": [],
   "source": [
    "def plot_pot(U,x):    \n",
    "    fig, ax = plt.subplots()\n",
    "    ax.plot(x, U)\n",
    "\n",
    "    ax.set_ylim(min(U)-10, max(U)+10)\n",
    "    ax.set_xlabel(r'$x$', fontsize=18)\n",
    "    ax.set_ylabel(r'$U(x)$', fontsize=18);"
   ]
  },
  {
   "cell_type": "code",
   "execution_count": 7,
   "metadata": {
    "scrolled": false
   },
   "outputs": [],
   "source": [
    "plot_pot(U,x)"
   ]
  },
  {
   "cell_type": "markdown",
   "metadata": {},
   "source": [
    "### Matrix flux representation of the energy  "
   ]
  },
  {
   "cell_type": "code",
   "execution_count": 8,
   "metadata": {
    "collapsed": true
   },
   "outputs": [],
   "source": [
    "def mod_kron(N, n, m):\n",
    "    return (n == m)"
   ]
  },
  {
   "cell_type": "code",
   "execution_count": 9,
   "metadata": {
    "collapsed": true
   },
   "outputs": [],
   "source": [
    "def assemble_K(N, k, x_min, x_max):\n",
    "    dx = (x_min - x_max) / N\n",
    "\n",
    "    K = np.zeros((N, N)).astype(np.complex)\n",
    "\n",
    "    for m in range(0, N):\n",
    "        for n in range(0, N):\n",
    "            K[m, n] = (-4)*k / (dx ** 2) * (mod_kron(N, m + 1, n) - 2 * mod_kron(N, m, n) + mod_kron(N, m - 1, n))\n",
    "                # помнить, что тут -К \n",
    "    return K"
   ]
  },
  {
   "cell_type": "code",
   "execution_count": 10,
   "metadata": {
    "collapsed": true
   },
   "outputs": [],
   "source": [
    "def assemble_V(N, u, x_min, x_max, sparse=False):\n",
    "    V = np.zeros((N, N)).astype(np.complex)\n",
    "    for m in range(N):\n",
    "        for n in range(N):\n",
    "            V[m, n] = u[m] * mod_kron(N, m, n)\n",
    "    return V"
   ]
  },
  {
   "cell_type": "code",
   "execution_count": 11,
   "metadata": {
    "collapsed": true
   },
   "outputs": [],
   "source": [
    "K = assemble_K(N, k, x_min, x_max)\n",
    "V = assemble_V(N, U, x_min, x_max)\n",
    "H = K + V #наш гамильтониан системы"
   ]
  },
  {
   "cell_type": "code",
   "execution_count": 24,
   "metadata": {
    "collapsed": true
   },
   "outputs": [],
   "source": [
    "# (N/(x_max-x_min))**2*4*k*2 \n",
    "# \"\"\"элементы матрицы кин.энергии по диагонали \"\"\""
   ]
  },
  {
   "cell_type": "markdown",
   "metadata": {},
   "source": [
    "## Matrix charge representation of the energy  "
   ]
  },
  {
   "cell_type": "markdown",
   "metadata": {
    "collapsed": true
   },
   "source": [
    "## Eigenvalues"
   ]
  },
  {
   "cell_type": "code",
   "execution_count": 12,
   "metadata": {
    "collapsed": true
   },
   "outputs": [],
   "source": [
    "def solve_eig(H):\n",
    "    vals, vecs = np.linalg.eig(H)\n",
    "    idx = np.real(vals).argsort()\n",
    "    vals = vals[idx]\n",
    "    vecs = vecs.T[idx]\n",
    "    return vals, vecs"
   ]
  },
  {
   "cell_type": "code",
   "execution_count": 13,
   "metadata": {
    "collapsed": true
   },
   "outputs": [],
   "source": [
    "evals, evecs = solve_eig(H)"
   ]
  },
  {
   "cell_type": "code",
   "execution_count": 27,
   "metadata": {},
   "outputs": [
    {
     "data": {
      "text/plain": [
       "array([  9.72284521,   0.15506931,   1.93240704,   6.66786637,\n",
       "         2.54957231,   3.48520293,   5.0588389 ,   4.78743978,\n",
       "         5.27244751,   5.78963359,   6.22162078,   6.74956492,\n",
       "         7.29329952,   7.84210895,   8.3965397 ,   8.95026176,\n",
       "         9.50263499,  10.05367933,  10.6034522 ])"
      ]
     },
     "execution_count": 27,
     "metadata": {},
     "output_type": "execute_result"
    }
   ],
   "source": [
    "# Anharmonicity\n",
    "Num = 20\n",
    "a = np.zeros(Num-1,dtype = complex)\n",
    "for i in range(Num-1) :\n",
    "    a[i]=evals[i+1]-evals[i]\n",
    "a.real"
   ]
  },
  {
   "cell_type": "code",
   "execution_count": 28,
   "metadata": {
    "scrolled": false
   },
   "outputs": [
    {
     "data": {
      "text/plain": [
       "array([  -3.56619336,    6.15665186,    6.31172117,    8.2441282 ,\n",
       "         14.91199458,   17.46156688,   20.94676982,   26.00560871,\n",
       "         30.79304849,   36.065496  ,   41.85512959,   48.07675037,\n",
       "         54.82631529,   62.11961481,   69.96172376,   78.35826346,\n",
       "         87.30852522,   96.81116021,  106.86483954,  117.46829173])"
      ]
     },
     "execution_count": 28,
     "metadata": {},
     "output_type": "execute_result"
    }
   ],
   "source": [
    "Number_evals = 20\n",
    "evals[0:Number_evals].real"
   ]
  },
  {
   "cell_type": "code",
   "execution_count": 29,
   "metadata": {
    "scrolled": true
   },
   "outputs": [
    {
     "data": {
      "text/plain": [
       "1"
      ]
     },
     "execution_count": 29,
     "metadata": {},
     "output_type": "execute_result"
    }
   ],
   "source": [
    "num = sum(evals<0) #число состояний с Е<0\n",
    "num"
   ]
  },
  {
   "cell_type": "code",
   "execution_count": 30,
   "metadata": {},
   "outputs": [
    {
     "data": {
      "text/plain": [
       "array([-3.56619336])"
      ]
     },
     "execution_count": 30,
     "metadata": {},
     "output_type": "execute_result"
    }
   ],
   "source": [
    "evals[:num].real"
   ]
  },
  {
   "cell_type": "markdown",
   "metadata": {},
   "source": [
    "### Normalize wavefunction"
   ]
  },
  {
   "cell_type": "code",
   "execution_count": 31,
   "metadata": {
    "collapsed": true
   },
   "outputs": [],
   "source": [
    "NN = 20 #number of wavefunction"
   ]
  },
  {
   "cell_type": "code",
   "execution_count": 32,
   "metadata": {
    "collapsed": true
   },
   "outputs": [],
   "source": [
    "def wavefunction_normalize(psi):\n",
    "    Norm = (psi.conj()* psi).sum()\n",
    "    return psi / np.sqrt(Norm)"
   ]
  },
  {
   "cell_type": "code",
   "execution_count": 33,
   "metadata": {
    "collapsed": true
   },
   "outputs": [],
   "source": [
    "psi = np.zeros((N, N)).astype(np.complex)\n",
    "for m in range(N):\n",
    "    psi[m]= wavefunction_normalize( evecs[m])"
   ]
  },
  {
   "cell_type": "code",
   "execution_count": 34,
   "metadata": {},
   "outputs": [
    {
     "data": {
      "text/plain": [
       "(1+0j)"
      ]
     },
     "execution_count": 34,
     "metadata": {},
     "output_type": "execute_result"
    }
   ],
   "source": [
    "Norm = (psi[2].conj() * psi[2]).sum()\n",
    "Norm"
   ]
  },
  {
   "cell_type": "markdown",
   "metadata": {},
   "source": [
    "## Plot wave function"
   ]
  },
  {
   "cell_type": "code",
   "execution_count": 35,
   "metadata": {
    "scrolled": false
   },
   "outputs": [
    {
     "data": {
      "image/png": "[encoded data removed]",
      "text/plain": [
       "<matplotlib.figure.Figure at 0x7f85182b2ac8>"
      ]
     },
     "metadata": {},
     "output_type": "display_data"
    }
   ],
   "source": [
    "NN = 3\n",
    "fig, axes = plt.subplots(NN, 1, figsize=(10,NN*1), sharex=True, sharey=True)\n",
    "for n in range(NN):\n",
    "    Y = psi[NN-n-1]\n",
    "    axes[n].plot(x, Y.real)\n",
    "axes[n].set_xlim(x_min,x_max)\n",
    "axes[n].set_xlabel(r'$x$', fontsize=18)\n",
    "# axes[n].set_ylabel(r'evals[n].real',fontsize = 10)\n",
    "fig.tight_layout();"
   ]
  },
  {
   "cell_type": "code",
   "execution_count": 36,
   "metadata": {},
   "outputs": [
    {
     "data": {
      "image/png": "[encoded data removed]",
      "text/plain": [
       "<matplotlib.figure.Figure at 0x7f8518285828>"
      ]
     },
     "metadata": {},
     "output_type": "display_data"
    }
   ],
   "source": [
    "NN=3\n",
    "fig, ax = plt.subplots(figsize=(12,8))\n",
    "\n",
    "ax.plot(x, U, 'k')\n",
    "for n in range(NN):\n",
    "    Y = evals[n] + psi[n]\n",
    "\n",
    "       \n",
    "    ax.plot(x, evals[n].real * np.ones(np.shape(x)), 'k--')\n",
    "    \n",
    "    mask = np.where(Y > U-10)\n",
    "    ax.plot(x[mask], Y[mask].real)\n",
    "    \n",
    "ax.set_xlim(x_min, x_max)\n",
    "ax.set_ylim(min(U)-1, evals[NN].real+2)\n",
    "ax.set_xlabel(r'$x$', fontsize=18)\n",
    "ax.set_ylabel(r'$U(x)$', fontsize=18);"
   ]
  },
  {
   "cell_type": "markdown",
   "metadata": {},
   "source": [
    "## Plot wave function ^2"
   ]
  },
  {
   "cell_type": "code",
   "execution_count": 37,
   "metadata": {
    "scrolled": false
   },
   "outputs": [
    {
     "data": {
      "image/png": "[encoded data removed]",
      "text/plain": [
       "<matplotlib.figure.Figure at 0x7f851839df28>"
      ]
     },
     "metadata": {},
     "output_type": "display_data"
    }
   ],
   "source": [
    "fig, axes = plt.subplots(NN, 1, figsize=(10,NN*1), sharex=True, sharey=True)\n",
    "for n in range(NN):\n",
    "    Y = psi[NN-n-1]*psi[NN-n-1].conj()  #вывод psi^2\n",
    "    axes[n].plot(x, Y.real)\n",
    "axes[n].set_xlim(x_min,x_max)\n",
    "axes[n].set_xlabel(r'$x$', fontsize=18)\n",
    "fig.tight_layout();"
   ]
  },
  {
   "cell_type": "code",
   "execution_count": 38,
   "metadata": {
    "scrolled": false
   },
   "outputs": [
    {
     "data": {
      "image/png": "[encoded data removed]",
      "text/plain": [
       "<matplotlib.figure.Figure at 0x7f85114ca1d0>"
      ]
     },
     "metadata": {},
     "output_type": "display_data"
    }
   ],
   "source": [
    "NN=10\n",
    "fig, ax = plt.subplots(figsize=(12,8))\n",
    "\n",
    "ax.plot(x, U, 'k')\n",
    "for n in range(NN):\n",
    "    Y = evals[n] + psi[n]*psi[n].conj()\n",
    "\n",
    "       \n",
    "    ax.plot(x, evals[n].real * np.ones(np.shape(x)), 'k--')\n",
    "    \n",
    "    mask = np.where(Y > U-10)\n",
    "    ax.plot(x[mask], Y[mask].real)\n",
    "    \n",
    "ax.set_xlim(x_min, x_max)\n",
    "ax.set_ylim(min(U)-1, evals[NN].real+2)\n",
    "ax.set_xlabel(r'$x$', fontsize=18)\n",
    "ax.set_ylabel(r'$U(x)$', fontsize=18);"
   ]
  },
  {
   "cell_type": "markdown",
   "metadata": {},
   "source": [
    "## Coupling constant "
   ]
  },
  {
   "cell_type": "code",
   "execution_count": 39,
   "metadata": {
    "collapsed": true
   },
   "outputs": [],
   "source": [
    "def assemble_D(N, k, x_min, x_max):\n",
    "    dx = (x_min - x_max) / N\n",
    "\n",
    "    K = np.zeros((N, N)).astype(np.complex)\n",
    "\n",
    "    for m in range(0, N):\n",
    "        for n in range(0, N):\n",
    "            K[m, n] = (mod_kron(N, m, n) - mod_kron(N, m-1, n))/dx\n",
    "    return K"
   ]
  },
  {
   "cell_type": "code",
   "execution_count": 40,
   "metadata": {},
   "outputs": [
    {
     "name": "stdout",
     "output_type": "stream",
     "text": [
      "0 -0.0028272493516\n",
      "1 -0.183213817978\n",
      "2 0.00063286293599\n",
      "3 0.502053958739\n",
      "4 0.00307229424091\n",
      "5 -0.0985446088061\n",
      "6 0.00250485813059\n",
      "7 -0.0617660908473\n",
      "8 -0.00134738266122\n",
      "9 0.0263213848886\n"
     ]
    }
   ],
   "source": [
    "D = assemble_D(N, k, x_min, x_max)\n",
    "Nk=10\n",
    "for i in range(Nk) :\n",
    "    print(i,(psi[0].real)@((D.real)@(psi[i].real)))"
   ]
  },
  {
   "cell_type": "code",
   "execution_count": 42,
   "metadata": {
    "collapsed": true
   },
   "outputs": [],
   "source": [
    "pi=3.1415\n",
    "Z=110\n",
    "w=2*pi*8.131*10**(9)\n",
    "Lr=Z/w\n",
    "Cr=1/(Z*w)"
   ]
  },
  {
   "cell_type": "code",
   "execution_count": null,
   "metadata": {
    "collapsed": true
   },
   "outputs": [],
   "source": []
  },
  {
   "cell_type": "code",
   "execution_count": 43,
   "metadata": {},
   "outputs": [
    {
     "data": {
      "text/plain": [
       "2.1531865800962997e-09"
      ]
     },
     "execution_count": 43,
     "metadata": {},
     "output_type": "execute_result"
    }
   ],
   "source": [
    "Lr"
   ]
  },
  {
   "cell_type": "code",
   "execution_count": 44,
   "metadata": {},
   "outputs": [
    {
     "data": {
      "text/plain": [
       "1.7794930414019004e-13"
      ]
     },
     "execution_count": 44,
     "metadata": {},
     "output_type": "execute_result"
    }
   ],
   "source": [
    "Cr"
   ]
  },
  {
   "cell_type": "code",
   "execution_count": 45,
   "metadata": {
    "collapsed": true
   },
   "outputs": [],
   "source": [
    "Fpi=3*10**(-16)\n",
    "e=1.6*10**(-19)\n",
    "h=6.626*10**(-34)\n",
    "El=h*0.892*10**9\n",
    "Ej=h*12*10**9\n",
    "Ec=h*2.57*10**9\n",
    "Cj=e**2/2/Ec\n",
    "Lj=Fpi**2/Ej\n",
    "La=Fpi**2/El\n",
    "Cc=0.6*10**(-15)"
   ]
  },
  {
   "cell_type": "code",
   "execution_count": null,
   "metadata": {
    "collapsed": true
   },
   "outputs": [],
   "source": []
  },
  {
   "cell_type": "code",
   "execution_count": 46,
   "metadata": {},
   "outputs": [
    {
     "data": {
      "text/plain": [
       "7.516668800304427e-15"
      ]
     },
     "execution_count": 46,
     "metadata": {},
     "output_type": "execute_result"
    }
   ],
   "source": [
    "Cj"
   ]
  },
  {
   "cell_type": "code",
   "execution_count": 47,
   "metadata": {},
   "outputs": [
    {
     "data": {
      "text/plain": [
       "1.1319046181708421e-08"
      ]
     },
     "execution_count": 47,
     "metadata": {},
     "output_type": "execute_result"
    }
   ],
   "source": [
    "Lj"
   ]
  },
  {
   "cell_type": "code",
   "execution_count": 48,
   "metadata": {},
   "outputs": [
    {
     "data": {
      "text/plain": [
       "1.522741638794855e-07"
      ]
     },
     "execution_count": 48,
     "metadata": {},
     "output_type": "execute_result"
    }
   ],
   "source": [
    "La"
   ]
  },
  {
   "cell_type": "code",
   "execution_count": 49,
   "metadata": {
    "collapsed": true
   },
   "outputs": [],
   "source": [
    "Csig=Cr*Cj+Cr*Cc+Cj*Cc\n",
    "wr=np.sqrt((Cj+Cc)/(Lr*Csig))\n",
    "Zc=np.sqrt(Lr*(Cj+Cc)/Csig)\n",
    "g=2*e*Cc*np.sqrt(h/(2*pi)/(2*Zc))/Csig"
   ]
  },
  {
   "cell_type": "code",
   "execution_count": 50,
   "metadata": {},
   "outputs": [
    {
     "data": {
      "text/plain": [
       "0.13857696469373257"
      ]
     },
     "execution_count": 50,
     "metadata": {},
     "output_type": "execute_result"
    }
   ],
   "source": [
    "g/h*10**(-9)"
   ]
  },
  {
   "cell_type": "code",
   "execution_count": 51,
   "metadata": {},
   "outputs": [
    {
     "data": {
      "text/plain": [
       "5.1007499591690994e+19"
      ]
     },
     "execution_count": 51,
     "metadata": {},
     "output_type": "execute_result"
    }
   ],
   "source": [
    "wr/10**(-9)"
   ]
  },
  {
   "cell_type": "code",
   "execution_count": 52,
   "metadata": {},
   "outputs": [
    {
     "data": {
      "text/plain": [
       "1.4488655662307465e-27"
      ]
     },
     "execution_count": 52,
     "metadata": {},
     "output_type": "execute_result"
    }
   ],
   "source": [
    "Csig"
   ]
  },
  {
   "cell_type": "code",
   "execution_count": 53,
   "metadata": {},
   "outputs": [
    {
     "data": {
      "text/plain": [
       "1.444355564950564e-27"
      ]
     },
     "execution_count": 53,
     "metadata": {},
     "output_type": "execute_result"
    }
   ],
   "source": [
    "Cr*(Cj+Cc)"
   ]
  },
  {
   "cell_type": "code",
   "execution_count": 54,
   "metadata": {},
   "outputs": [
    {
     "data": {
      "text/plain": [
       "109.82866360509652"
      ]
     },
     "execution_count": 54,
     "metadata": {},
     "output_type": "execute_result"
    }
   ],
   "source": [
    "Zc"
   ]
  },
  {
   "cell_type": "code",
   "execution_count": 55,
   "metadata": {
    "collapsed": true
   },
   "outputs": [],
   "source": [
    "gx=g/h*10**(-9)*0.22"
   ]
  },
  {
   "cell_type": "code",
   "execution_count": 56,
   "metadata": {},
   "outputs": [
    {
     "data": {
      "text/plain": [
       "0.030486932232621167"
      ]
     },
     "execution_count": 56,
     "metadata": {},
     "output_type": "execute_result"
    }
   ],
   "source": [
    "gx"
   ]
  },
  {
   "cell_type": "code",
   "execution_count": 67,
   "metadata": {
    "collapsed": true
   },
   "outputs": [],
   "source": [
    "g=2*e*Cc/(Cj+Cc)*np.sqrt(h*w/(Cr*4*pi))/10**(9)"
   ]
  },
  {
   "cell_type": "code",
   "execution_count": 69,
   "metadata": {},
   "outputs": [
    {
     "data": {
      "text/plain": [
       "0.14762531426196132"
      ]
     },
     "execution_count": 69,
     "metadata": {},
     "output_type": "execute_result"
    }
   ],
   "source": [
    "g/h"
   ]
  },
  {
   "cell_type": "code",
   "execution_count": null,
   "metadata": {
    "collapsed": true
   },
   "outputs": [],
   "source": []
  }
 ],
 "metadata": {
  "kernelspec": {
   "display_name": "Python 3",
   "language": "python",
   "name": "python3"
  },
  "language_info": {
   "codemirror_mode": {
    "name": "ipython",
    "version": 3
   },
   "file_extension": ".py",
   "mimetype": "text/x-python",
   "name": "python",
   "nbconvert_exporter": "python",
   "pygments_lexer": "ipython3",
   "version": "3.5.2"
  }
 },
 "nbformat": 4,
 "nbformat_minor": 1
}
