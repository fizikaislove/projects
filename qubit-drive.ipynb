{
 "cells": [
  {
   "cell_type": "markdown",
   "metadata": {},
   "source": [
    "Рассматриваем как параллельный LCR контур нашу систему кубит-драйв, надо сделать преобразование нортона, чтобы получить эквивалентную цепочку\n",
    "см середину статьи http://arxiv.org/abs/0807.4094\n",
    "считаем наш драйв провод как резистор с R=50ом"
   ]
  },
  {
   "cell_type": "code",
   "execution_count": 2,
   "metadata": {
    "collapsed": true
   },
   "outputs": [],
   "source": [
    "from numpy import *"
   ]
  },
  {
   "cell_type": "code",
   "execution_count": 4,
   "metadata": {},
   "outputs": [],
   "source": [
    "R=50\n",
    "Ck1=0.045e-15\n",
    "L1=14e-9\n",
    "L2=5.5e-9\n",
    "C=100e-15\n",
    "Ck2=0.018e-15"
   ]
  },
  {
   "cell_type": "markdown",
   "metadata": {},
   "source": [
    "посмотрим на сколько меняется время ухода сигнала из кубита в драйв в зависимости от частоты кубита"
   ]
  },
  {
   "cell_type": "code",
   "execution_count": 5,
   "metadata": {
    "scrolled": true
   },
   "outputs": [
    {
     "data": {
      "text/plain": [
       "(4.2535947747241174, 6.7863895757456998)"
      ]
     },
     "execution_count": 5,
     "metadata": {},
     "output_type": "execute_result"
    }
   ],
   "source": [
    "w1=1/sqrt(L1*C)\n",
    "w2=1/sqrt(L2*C)\n",
    "w1/(2*pi*1e9),w2/(2*pi*1e9)"
   ]
  },
  {
   "cell_type": "markdown",
   "metadata": {},
   "source": [
    "эффектиное сопротивление меняется сильно, в то время как эффективная ёмкость связи нет"
   ]
  },
  {
   "cell_type": "code",
   "execution_count": 18,
   "metadata": {},
   "outputs": [
    {
     "data": {
      "text/plain": [
       "(276543210.87654328, 108641976.30864197)"
      ]
     },
     "execution_count": 18,
     "metadata": {},
     "output_type": "execute_result"
    }
   ],
   "source": [
    "eff11=(w1*Ck1*R)**2\n",
    "Reff11=(1+eff11)/eff11\n",
    "eff12=(w2*Ck1*R)**2\n",
    "Reff12=(1+eff12)/eff12\n",
    "Reff11,Reff12"
   ]
  },
  {
   "cell_type": "code",
   "execution_count": 19,
   "metadata": {},
   "outputs": [
    {
     "data": {
      "text/plain": [
       "(0.99999999638392856, 0.99999999079545465)"
      ]
     },
     "execution_count": 19,
     "metadata": {},
     "output_type": "execute_result"
    }
   ],
   "source": [
    "Ceff11=Ck1/(1+eff11)\n",
    "Ceff12=Ck1/(1+eff12)\n",
    "Ceff11/Ck1,Ceff12/Ck1"
   ]
  },
  {
   "cell_type": "code",
   "execution_count": 20,
   "metadata": {},
   "outputs": [
    {
     "data": {
      "text/plain": [
       "(55.333531064197544, 21.738173039506176)"
      ]
     },
     "execution_count": 20,
     "metadata": {},
     "output_type": "execute_result"
    }
   ],
   "source": [
    "gamma1=1/(2*(Reff11*(Ceff11+C)))\n",
    "gamma2=1/(2*(Reff12*(Ceff12+C)))\n",
    "T2=1/gamma2\n",
    "T1=1/gamma1\n",
    "T1/1e-6,T2/1e-6"
   ]
  },
  {
   "cell_type": "markdown",
   "metadata": {},
   "source": [
    "так же посчитаем время релаксации для соседнего кубита"
   ]
  },
  {
   "cell_type": "code",
   "execution_count": 21,
   "metadata": {},
   "outputs": [
    {
     "data": {
      "text/plain": [
       "(0.99999999942142859, 0.99999999852727273)"
      ]
     },
     "execution_count": 21,
     "metadata": {},
     "output_type": "execute_result"
    }
   ],
   "source": [
    "eff11=(w1*Ck2*R)**2\n",
    "Reff11=(1+eff11)/eff11\n",
    "eff12=(w2*Ck2*R)**2\n",
    "Reff12=(1+eff12)/eff12\n",
    "Ceff11=Ck2/(1+eff11)\n",
    "Ceff12=Ck2/(1+eff12)\n",
    "Ceff11/Ck2,Ceff12/Ck2"
   ]
  },
  {
   "cell_type": "code",
   "execution_count": 22,
   "metadata": {},
   "outputs": [
    {
     "data": {
      "text/plain": [
       "(345.74123476790118, 135.82691378024694)"
      ]
     },
     "execution_count": 22,
     "metadata": {},
     "output_type": "execute_result"
    }
   ],
   "source": [
    "gamma1=1/(2*(Reff11*(Ceff11+C)))\n",
    "gamma2=1/(2*(Reff12*(Ceff12+C)))\n",
    "T2=1/gamma2\n",
    "T1=1/gamma1\n",
    "T1/1e-6,T2/1e-6"
   ]
  }
 ],
 "metadata": {
  "kernelspec": {
   "display_name": "Python 3",
   "language": "python",
   "name": "python3"
  },
  "language_info": {
   "codemirror_mode": {
    "name": "ipython",
    "version": 3
   },
   "file_extension": ".py",
   "mimetype": "text/x-python",
   "name": "python",
   "nbconvert_exporter": "python",
   "pygments_lexer": "ipython3",
   "version": "3.5.2"
  }
 },
 "nbformat": 4,
 "nbformat_minor": 2
}
