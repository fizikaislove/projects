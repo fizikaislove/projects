{
 "cells": [
  {
   "cell_type": "markdown",
   "metadata": {},
   "source": [
    "## Fit"
   ]
  },
  {
   "cell_type": "code",
   "execution_count": null,
   "metadata": {
    "collapsed": true
   },
   "outputs": [],
   "source": [
    "def sin_fit(x, y, resample=501):\n",
    "\t# фитует результаты измерений экспонентой\n",
    "\tdef model(x, p):\n",
    "\t\tphase = p[0]\n",
    "\t\tfreq = p[1]\n",
    "\t\tA = np.reshape(np.asarray(p[2:]),(len(p[2:]), 1))\n",
    "\t\treturn A*np.cos(phase+x*freq*2*np.pi)\n",
    "\t\n",
    "\tcost = lambda p: (np.abs(model(x, p)-y)**2).ravel()\n",
    "\t\n",
    "\tmeans = np.reshape(np.mean(y, axis=1), (np.asarray(y).shape[0], 1))\n",
    "\ty = y-means\n",
    "\t\n",
    "\tft = np.fft.fft(y-np.reshape(np.mean(y, axis=1), (y.shape[0], 1)), axis=1)/len(x)\n",
    "\tf = np.fft.fftfreq(len(x), x[1]-x[0])\n",
    "\tdomega = (f[1]-f[0])*2*np.pi\n",
    "\t\n",
    "\tfR_id = np.argmax(np.sum(np.abs(ft)**2, axis=0))\n",
    "\tfR_id_conj = len(f)-fR_id\n",
    "\tif fR_id_conj > fR_id:\n",
    "\t\ttmp = fR_id_conj\n",
    "\t\tfR_id_conj = fR_id\n",
    "\t\tfR_id = tmp\n",
    "\t\n",
    "\tfR = np.abs((f[fR_id]))\n",
    "\t\n",
    "\tc = np.real(np.sum(ft[:,fR_id], axis=0))\n",
    "\ts = np.imag(np.sum(ft[:,fR_id], axis=0))\n",
    "\tphase = np.arctan2(s, c)\n",
    "\t#x0 = np.sqrt(np.mean(np.abs(ft[:,fR_id])**2)/np.mean(np.abs((ft[:,fR_id-1]+ft[:,fR_id+1])/2)**2)-1)/domega/2\n",
    "\t#print (np.abs(ft[:,fR_id])**2, np.abs((ft[:,fR_id-1]+ft[:,fR_id+1])/2)**2)\n",
    "\t\n",
    "\tA = np.sqrt(np.abs(ft[:,fR_id])**2+np.abs(ft[:,fR_id_conj])**2)\n",
    "\tp0 = [phase, fR]+A.tolist()\n",
    "\t\n",
    "\tfrom scipy.optimize import leastsq\n",
    "\tfitresults_all = []\n",
    "\tfor random_id in range(100):\n",
    "\t\trandom_samples = np.random.choice(len(x), int(len(x)*0.7))\n",
    "\t\tcost = lambda p: (np.abs(model(x[random_samples], p)-y[:,random_samples])**2).ravel()\n",
    "\t\t\n",
    "\t\tfitresults = leastsq (cost, p0)\n",
    "\t\tfitresults_all.append(fitresults[0])\n",
    "\tfitted_curve = model(x, fitresults[0])\n",
    "\t\n",
    "\tresampled_x = np.linspace(np.min(x), np.max(x), resample)\n",
    "\tresampled_y = model(resampled_x, fitresults[0])+means\n",
    "\t\n",
    "\t#for i in range(4):\n",
    "\t#\tplt.figure(i)\n",
    "\t#\tplt.plot(x, y[i,:], label='data')\n",
    "\t#\tplt.plot(x, model(x, p0)[i,:], label='initial')\n",
    "\t#\tplt.plot(x, model(x, fitresults[0])[i,:], label='fitted')\n",
    "\t#\tplt.legend()\n",
    "\t\n",
    "\treturn fitresults[0], fitted_curve+means, fitresults_all, resampled_x, resampled_y    "
   ]
  },
  {
   "cell_type": "code",
   "execution_count": null,
   "metadata": {
    "collapsed": true
   },
   "outputs": [],
   "source": [
    "from scipy.optimize import curve_fit\n",
    "\n",
    "def set_ex_amp(amp,num_pulses):\n",
    "    awg_tek.set_nop(awg_tek.get_clock()/rep_rate)\n",
    "    sequence = [pg.p('iq_ex', length, pg.gauss_hd, amp, 0, sigma, alpha), \n",
    "                pg.p(None, pause_length)]*num_pulses+\\\n",
    "                [pg.p('ro_trg', trg_length, pg.rect, 1), \n",
    "                pg.p('iq_ro', ro_dac_length, pg.rect, ro_dac_amplitude)]\n",
    "    pg.set_seq(sequence)\n",
    "    awg_tek.run()\n",
    "    \n",
    "def func(x,a,b,c):\n",
    "    return a*x**2+c*x+b\n",
    "\n",
    "def func_for_fit_cal(x,a,b,c):\n",
    "    return a*x**(5/3)+b*x**(4/3)+c\n",
    "\n",
    "def fit_cal(data):\n",
    "    x = [data[i][0] for i in range(len(data))]\n",
    "    y = [data[i][1] for i in range(len(data))]\n",
    "    popt = curve_fit(func_for_fit_cal,x,y)[0]\n",
    "    angles = np.linspace(x[np.argmin(x)],x[np.argmax(x)],1000)\n",
    "    amps = func_for_fit_cal(angles,popt[0],popt[1],popt[2])\n",
    "    return angles,amps,[popt[0],popt[1],popt[2]]\n",
    "\n",
    "def find_max(x,y):\n",
    "    popt=curve_fit(func,x,y)[0]\n",
    "    n1 = np.linspace(x[np.argmin(x)],x[np.argmax(x)],100)\n",
    "    n2 = func(n1,popt[0],popt[1],popt[2])\n",
    "    max_amp=n1[np.argmax(n2)]\n",
    "    return max_amp\n",
    "\n",
    "def first_sweep(num_pulses,ex_amps):# in order to find a period between first two peaks\n",
    "    set_ex_first = lambda amp: set_ex_amp(amp,num_pulses)\n",
    "    print('ya tut first sweep')\n",
    "    measurement = sweep.sweep(adc_reducer, (ex_amps, set_ex_first, 'Rabi pulse amplitude'),\n",
    "                                      filename=None,save=False)\n",
    "    x = measurement['S21+'][1][0]\n",
    "    y = (np.real(measurement['S21-'][2]),np.imag(measurement['S21-'][2]))\n",
    "    fit= sin_fit(x,y)[0]\n",
    "    x_max_0,x_min_0=(np.pi-fit[0])/(2*np.pi*fit[1]),(np.pi*4/2-fit[0])/(2*np.pi*fit[1])\n",
    "    cut=np.abs((x_max_0-x_min_0))/4\n",
    "    ex_amps=np.linspace(x_max_0-cut,x_max_0+cut,10)\n",
    "    T0=1/fit[1]\n",
    "    return T0,cut,ex_amps\n",
    "\n",
    "def set_amps(num_pulses,ex_amps_first):\n",
    "    T0,cut,ex_amps = first_sweep(num_pulses,ex_amps_first)\n",
    "    print(T0,cut,ex_amps)\n",
    "    amp_for_angle=[]\n",
    "    k=0\n",
    "    set_ex_next = lambda amp: set_ex_amp(amp,num_pulses)\n",
    "    for i in range(int(num_pulses/2)):\n",
    "        measurement = sweep.sweep(adc_reducer, (ex_amps, set_ex_next, 'Rabi pulse amplitude'),\n",
    "                                      filename=None,save=False)\n",
    "        x=measurement['S21-'][1][0]\n",
    "        y=np.angle(measurement['S21-'][2])\n",
    "        max_amp=find_max(x,y)\n",
    "        amp_for_angle.append([(1+2*i),max_amp])\n",
    "        if k>0:\n",
    "            T=amp_for_angle[i][1]-amp_for_angle[i-1][1]\n",
    "            print(T)\n",
    "            ex_amps=np.linspace(max_amp+T-cut,max_amp+T+cut,10)\n",
    "        else:\n",
    "            ex_amps=np.linspace(max_amp+T0-cut,max_amp+T0+cut,10)\n",
    "            k=1\n",
    "        print('angle: {}pi, amplitude: {}'.format((1+2*i)/num_pulses,max_amp))\n",
    "    return amp_for_angle"
   ]
  },
  {
   "cell_type": "code",
   "execution_count": null,
   "metadata": {
    "collapsed": true
   },
   "outputs": [],
   "source": [
    "num_pulses = 12\n",
    "ex_amps_first=np.linspace(0.03,0.6,81)\n",
    "amps=set_amps(num_pulses,ex_amps_first)\n",
    "angles_curve = fit_cal(amps)"
   ]
  },
  {
   "cell_type": "code",
   "execution_count": null,
   "metadata": {
    "collapsed": true
   },
   "outputs": [],
   "source": [
    "x=angles_curve[0]\n",
    "y=angles_curve[1]\n",
    "params_of_fit=angles_curve[3]\n",
    "print(params)\n",
    "plt.plot(x,y,\"-\")\n",
    "plt.plot([amps[0][0],amps[(len(amps)-1)][0]],[amps[0][1],amps[(len(amps)-1)][1]])\n",
    "plt.plot([amps[i][0] for i in range(len(amps))],[amps[i][1] for i in range(len(amps))],'o')\n",
    "plt.show()"
   ]
  }
 ],
 "metadata": {
  "kernelspec": {
   "display_name": "Python 3",
   "language": "python",
   "name": "python3"
  },
  "language_info": {
   "codemirror_mode": {
    "name": "ipython",
    "version": 3
   },
   "file_extension": ".py",
   "mimetype": "text/x-python",
   "name": "python",
   "nbconvert_exporter": "python",
   "pygments_lexer": "ipython3",
   "version": "3.5.2"
  }
 },
 "nbformat": 4,
 "nbformat_minor": 2
}
