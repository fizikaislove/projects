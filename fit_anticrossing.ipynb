{
 "cells": [
  {
   "cell_type": "code",
   "execution_count": 1,
   "metadata": {
    "collapsed": true
   },
   "outputs": [],
   "source": [
    "import pickle\n",
    "import numpy as np\n",
    "import matplotlib.pyplot as plt\n",
    "from ipywidgets import interactive"
   ]
  },
  {
   "cell_type": "code",
   "execution_count": 2,
   "metadata": {},
   "outputs": [],
   "source": [
    "%matplotlib qt5"
   ]
  },
  {
   "cell_type": "code",
   "execution_count": 3,
   "metadata": {
    "collapsed": true
   },
   "outputs": [],
   "source": [
    "with open('S-parameter anticrossings Rev5 Stas qubit #3.pkl', 'rb') as fhandle:\n",
    "    data = pickle.load(fhandle)"
   ]
  },
  {
   "cell_type": "code",
   "execution_count": 4,
   "metadata": {
    "collapsed": true
   },
   "outputs": [],
   "source": [
    "parameter_names = data[1]['S-parameter'][0]\n",
    "parameter_values = data[1]['S-parameter'][1]\n",
    "measurement_result = data[1]['S-parameter'][2]"
   ]
  },
  {
   "cell_type": "code",
   "execution_count": 5,
   "metadata": {},
   "outputs": [
    {
     "data": {
      "text/plain": [
       "<matplotlib.collections.QuadMesh at 0x7fba1bddf240>"
      ]
     },
     "execution_count": 5,
     "metadata": {},
     "output_type": "execute_result"
    }
   ],
   "source": [
    "plt.pcolormesh(parameter_values[0], parameter_values[1], np.abs(measurement_result.T))"
   ]
  },
  {
   "cell_type": "code",
   "execution_count": 6,
   "metadata": {},
   "outputs": [
    {
     "data": {
      "text/plain": [
       "<matplotlib.collections.QuadMesh at 0x7fba1674b3c8>"
      ]
     },
     "execution_count": 6,
     "metadata": {},
     "output_type": "execute_result"
    }
   ],
   "source": [
    "plt.pcolormesh(parameter_values[0], parameter_values[1], np.angle(measurement_result.T))"
   ]
  },
  {
   "cell_type": "code",
   "execution_count": 8,
   "metadata": {
    "scrolled": false
   },
   "outputs": [
    {
     "data": {
      "application/vnd.jupyter.widget-view+json": {
       "model_id": "5b8a5ac62cd64640a8947e541768c810",
       "version_major": 2,
       "version_minor": 0
      },
      "text/html": [
       "<p>Failed to display Jupyter Widget of type <code>interactive</code>.</p>\n",
       "<p>\n",
       "  If you're reading this message in Jupyter Notebook or JupyterLab, it may mean\n",
       "  that the widgets JavaScript is still loading. If this message persists, it\n",
       "  likely means that the widgets JavaScript library is either not installed or\n",
       "  not enabled. See the <a href=\"https://ipywidgets.readthedocs.io/en/stable/user_install.html\">Jupyter\n",
       "  Widgets Documentation</a> for setup instructions.\n",
       "</p>\n",
       "<p>\n",
       "  If you're reading this message in another notebook frontend (for example, a static\n",
       "  rendering on GitHub or <a href=\"https://nbviewer.jupyter.org/\">NBViewer</a>),\n",
       "  it may mean that your frontend doesn't currently support widgets.\n",
       "</p>\n"
      ],
      "text/plain": [
       "interactive(children=(FloatSlider(value=0.0, description='x_br', max=0.1, min=-0.1, step=0.0001), FloatSlider(value=0.0, description='x_bi', max=0.01, min=-0.01, step=0.0001), FloatSlider(value=0.0, description='x_etar', max=1000.0, min=-1000.0, step=100.0), FloatSlider(value=0.0, description='x_etai', max=1000.0, min=-1000.0, step=100.0), FloatSlider(value=0.0, description='x_kappa', max=100000.0, min=-100000.0, step=10000.0), FloatSlider(value=0.0, description='x_gamma', max=100000.0, min=-100000.0, step=10000.0), FloatSlider(value=0.0, description='x_g', max=1000000.0, min=-1000000.0, step=100000.0), FloatSlider(value=0.0, description='x_t', max=1e-07, min=-1e-07, step=1e-08), FloatSlider(value=0.0, description='x_wr', max=1000000000.0, min=-1000000000.0, step=1000000.0), FloatSlider(value=0.0, description='x_wq', max=1000000000.0, min=-1000000000.0, step=1000000.0), Output()), _dom_classes=('widget-interact',))"
      ]
     },
     "metadata": {},
     "output_type": "display_data"
    }
   ],
   "source": [
    "initial_param=[-0.013, 0.042, 3e3, 2e3, 0.1e6, 0.1e6, 4.2e6, 300e-9, 6.5862e9,6.574e9]\n",
    "k=-10.5e9\n",
    "br, bi, etar, etai, kappa, gamma, g, t, wr, wq0 = initial_param\n",
    "w = np.reshape(parameter_values[1], (parameter_values[1].shape[0], 1))\n",
    "B = np.reshape(parameter_values[0], (1, parameter_values[0].shape[0]))\n",
    "wq = k*B+wq0\n",
    "fun = (br+1j*bi-(etar+1j*etai)/(kappa-1j*(wr-w)+g**2/(gamma-1j*(wq-w))))*np.exp(-1j*w*t)#-measurement_result.T\n",
    "\n",
    "\n",
    "plt.figure(1)\n",
    "ax= plt.imshow(np.real(fun),cmap='RdBu')\n",
    "plt.title(\"real\")\n",
    "plt.colorbar()\n",
    "\n",
    "plt.figure(2)\n",
    "ax2=plt.imshow(np.angle(fun),cmap='RdBu')\n",
    "plt.title(\"imagine\")\n",
    "plt.colorbar()\n",
    "plt.minorticks_on()\n",
    "\n",
    "plt.figure(3)\n",
    "ax3=plt.imshow(np.real(measurement_result.T),cmap='RdBu')\n",
    "plt.title(\"real experimental\")\n",
    "plt.colorbar()\n",
    "\n",
    "plt.figure(4)\n",
    "ax4=plt.imshow(np.angle(measurement_result.T),cmap='RdBu')\n",
    "plt.title(\"imagine experimental\")\n",
    "plt.colorbar()\n",
    "\n",
    "\n",
    "def plot(x_br, x_bi, x_etar, x_etai, x_kappa, x_gamma, x_g, x_t, x_wr,x_wq):\n",
    "    new = (br+x_br+1j\n",
    "           *(bi+x_bi)\n",
    "           -(etar+x_etar+1j*(etai+\n",
    "                                 x_etai))/(kappa+x_kappa-1j*(wr+x_wr-w)+\n",
    "                                                            (g+x_g)**2/(gamma+x_gamma-1j*(wq+\n",
    "                                                                                         x_wq-w))))*np.exp(-1j*w*(t+x_t))\n",
    "    ax.set_data(np.real(new))\n",
    "    ax2.set_data(np.angle(new))\n",
    "\n",
    "interactive(plot,\n",
    "            x_wr=(-1e9,1e9, 1e6),\n",
    "            x_g=(-1e6,1e6, 1e5),\n",
    "            x_br=(-1e-1,1e-1, 1e-4),\n",
    "            x_bi=(-1e-2,1e-2, 1e-4),\n",
    "            x_etar=(-1e3,1e3, 1e2),\n",
    "            x_etai=(-1e3,1e3, 1e2),\n",
    "            x_kappa=(-1e5,1e5, 1e4),\n",
    "            x_gamma=(-1e5,1e5, 1e4),\n",
    "            x_wq=(-1e9,1e9, 1e6),\n",
    "            x_t=(-100e-9,100e-9, 10e-9),\n",
    "           )"
   ]
  }
 ],
 "metadata": {
  "kernelspec": {
   "display_name": "Python 3",
   "language": "python",
   "name": "python3"
  },
  "language_info": {
   "codemirror_mode": {
    "name": "ipython",
    "version": 3
   },
   "file_extension": ".py",
   "mimetype": "text/x-python",
   "name": "python",
   "nbconvert_exporter": "python",
   "pygments_lexer": "ipython3",
   "version": "3.5.2"
  }
 },
 "nbformat": 4,
 "nbformat_minor": 2
}
