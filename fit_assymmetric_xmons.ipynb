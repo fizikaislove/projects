{
 "cells": [
  {
   "cell_type": "code",
   "execution_count": 1,
   "metadata": {
    "collapsed": true
   },
   "outputs": [],
   "source": [
    "import pickle\n",
    "import numpy as np\n",
    "import matplotlib.pyplot as plt\n",
    "from ipywidgets import interactive"
   ]
  },
  {
   "cell_type": "code",
   "execution_count": 2,
   "metadata": {
    "collapsed": true
   },
   "outputs": [],
   "source": [
    "%matplotlib qt5"
   ]
  },
  {
   "cell_type": "code",
   "execution_count": 3,
   "metadata": {
    "collapsed": true
   },
   "outputs": [],
   "source": [
    "with open('VII-two-tone_raw_data.pkl', 'rb') as fhandle:\n",
    "    data2 = pickle.load(fhandle)"
   ]
  },
  {
   "cell_type": "code",
   "execution_count": 4,
   "metadata": {
    "collapsed": true
   },
   "outputs": [],
   "source": [
    "current = data2['Current [A]']\n",
    "fr = data2['Frequency [Hz]']\n",
    "res=data2[\"data\"]"
   ]
  },
  {
   "cell_type": "code",
   "execution_count": 79,
   "metadata": {},
   "outputs": [],
   "source": [
    "plt.figure()\n",
    "ax=plt.imshow(np.abs(res.T),cmap='RdBu',extent=[np.min(current),np.max(current),np.min(fr),np.max(fr)]\n",
    "              ,aspect='auto',origin='lower')"
   ]
  },
  {
   "cell_type": "code",
   "execution_count": 73,
   "metadata": {
    "collapsed": true
   },
   "outputs": [],
   "source": [
    "Ej1=1e-1\n",
    "Ej2=4e-1\n",
    "F=1e5\n",
    "ph=0\n",
    "w=1e9/(np.sqrt((Ej1*np.sin(F*current+ph))**2+(Ej2*np.cos(F*current+ph))**2))\n"
   ]
  },
  {
   "cell_type": "code",
   "execution_count": 80,
   "metadata": {},
   "outputs": [],
   "source": [
    "ax2=plt.plot(current,w)\n",
    "plt.show()"
   ]
  },
  {
   "cell_type": "markdown",
   "metadata": {},
   "source": [
    "sqrt(Ej1/Ej2)"
   ]
  },
  {
   "cell_type": "code",
   "execution_count": 82,
   "metadata": {},
   "outputs": [
    {
     "data": {
      "application/vnd.jupyter.widget-view+json": {
       "model_id": "96420a26d9d74155b36779675ce1c04e",
       "version_major": 2,
       "version_minor": 0
      },
      "text/html": [
       "<p>Failed to display Jupyter Widget of type <code>interactive</code>.</p>\n",
       "<p>\n",
       "  If you're reading this message in Jupyter Notebook or JupyterLab, it may mean\n",
       "  that the widgets JavaScript is still loading. If this message persists, it\n",
       "  likely means that the widgets JavaScript library is either not installed or\n",
       "  not enabled. See the <a href=\"https://ipywidgets.readthedocs.io/en/stable/user_install.html\">Jupyter\n",
       "  Widgets Documentation</a> for setup instructions.\n",
       "</p>\n",
       "<p>\n",
       "  If you're reading this message in another notebook frontend (for example, a static\n",
       "  rendering on GitHub or <a href=\"https://nbviewer.jupyter.org/\">NBViewer</a>),\n",
       "  it may mean that your frontend doesn't currently support widgets.\n",
       "</p>\n"
      ],
      "text/plain": [
       "interactive(children=(FloatSlider(value=0.15000000000000002, description='Ej1', max=0.2, min=0.1, step=0.0001), FloatSlider(value=0.15000000000000002, description='Ej2', max=0.2, min=0.1, step=0.0001), FloatSlider(value=50000.0, description='F', max=100000.0, step=100.0), FloatSlider(value=3.1384510609362035, description='ph', max=6.283185307179586, step=0.0031415926535897933), Output()), _dom_classes=('widget-interact',))"
      ]
     },
     "metadata": {},
     "output_type": "display_data"
    }
   ],
   "source": [
    "\n",
    "def plot(Ej1,Ej2,F,ph):\n",
    "    w=1e9/(np.sqrt((Ej1*np.sin(F*current+ph))**2+(Ej2*np.cos(F*current+ph))**2))\n",
    "    ax2[0].set_data(current,w)\n",
    "    \n",
    "interactive(plot,\n",
    "            Ej1=(0.1,0.2, 0.0001),\n",
    "            Ej2=(0.1,0.2, 0.0001),\n",
    "            F=(0,1e5,1e2),\n",
    "            ph=(0,2*np.pi,np.pi/1000)\n",
    "           )"
   ]
  }
 ],
 "metadata": {
  "kernelspec": {
   "display_name": "Python 3",
   "language": "python",
   "name": "python3"
  },
  "language_info": {
   "codemirror_mode": {
    "name": "ipython",
    "version": 3
   },
   "file_extension": ".py",
   "mimetype": "text/x-python",
   "name": "python",
   "nbconvert_exporter": "python",
   "pygments_lexer": "ipython3",
   "version": "3.5.2"
  }
 },
 "nbformat": 4,
 "nbformat_minor": 2
}
