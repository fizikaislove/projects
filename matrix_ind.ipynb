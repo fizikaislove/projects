{
 "cells": [
  {
   "cell_type": "code",
   "execution_count": null,
   "metadata": {},
   "outputs": [],
   "source": [
    "import locale\n",
    "# Set to German locale to get comma decimal separater\n",
    "locale.setlocale(locale.LC_NUMERIC, \"deu_DEU\")\n",
    "\n",
    "import numpy as np\n",
    "import matplotlib.pyplot as plt\n",
    "plt.rcdefaults()\n",
    "\n",
    "# Tell matplotlib to use the locale we set above\n",
    "plt.rcParams['axes.formatter.use_locale'] = True\n",
    "%matplotlib qt5\n",
    "\n",
    "figs, axes = plt.subplots(3,3, figsize=(9,6), sharex=True, sharey='row')\n",
    "\n"
   ]
  },
  {
   "cell_type": "code",
   "execution_count": null,
   "metadata": {},
   "outputs": [],
   "source": [
    "locations\n",
    "delays = []\n",
    "for row_id in range(len(locations)):\n",
    "    for column_id in range(len(locations[0])):\n",
    "        file = open(location[row_id][column_id],'rb')\n",
    "        data = pickle.load(file)\n",
    "        data = data['S-parameter']\n",
    "        unwrapped = np.unwrap(np.angle(data[2])).T\n",
    "        delays.append((unwrapped[-1,:]-unwrapped[0,:]+np.pi*2)/(data[1][1][-1]-data[1][1][0]))\n",
    "delay = np.median(delays)"
   ]
  },
  {
   "cell_type": "code",
   "execution_count": null,
   "metadata": {},
   "outputs": [],
   "source": [
    "anticrossing_matrix = []\n",
    "max_dev_matrix = []\n",
    "coil_value_matrix = []\n",
    "\n",
    "for row_id in range(len(locations)):\n",
    "    anticrossing_row = []\n",
    "    max_dev_row = []\n",
    "    coil_value_row = []\n",
    "    for column_id in range(len(locations[0])):\n",
    "        data_nodelay = (data[2]*np.exp(-1j*delay*data[1][1])).T\n",
    "        data_deviation_complex = data_nodelay - np.mean(data_nodelay, axis=0)\n",
    "        axes[column_id, row_id].pcolormesh(data[1][0], data[1][1]/1e9, np.abs(data_deviation_complex), cmap='RdBu')\n",
    "        max_dev = data[1][1][np.argmax(np.abs(data_deviation_complex), axis=0)]/1e9\n",
    "        axes[column_id, row_id].plot(data[1][0], max_dev, color='yellow', linewidth=2)\n",
    "        if column_id == 0:\n",
    "            axes[column_id, row_id].set_title('Линия #'+str(row_id+1))\n",
    "        if row_id == 0:\n",
    "            axes[column_id, row_id].set_ylabel('Резонатор #'+str(column_id+1))\n",
    "        anticrossing_row.append(data_deviation_complex)\n",
    "        max_dev_row.append(max_dev)\n",
    "        coil_value_row.append(data[1][0])\n",
    "    anticrossing_matrix.append(anticrossing_row)\n",
    "    max_dev_matrix.append(max_dev_row)\n",
    "    coil_value_matrix.append(coil_value_row)\n",
    "figs.text(0.5, 0.04, 'Напряжение управляющей линии, В', ha='center')\n",
    "figs.text(0.02, 0.5, 'Частота, ГГц', va='center', rotation='vertical')\n",
    "#plt.tight_layout()\n",
    "print (delay/2/np.pi)b"
   ]
  },
  {
   "cell_type": "code",
   "execution_count": null,
   "metadata": {},
   "outputs": [],
   "source": [
    "fqb = lambda x, EJ1, EJ2, EC, phi0, L: (8*EC)**0.5*((EJ1-EJ2)**2*np.sin(np.pi*x*L+phi0*np.pi)**2+(EJ1+EJ2)**2*np.cos(np.pi*x*L+phi0*np.pi)**2)**0.25\n",
    "fr  = lambda x, frb, g, EJ1, EJ2, EC, phi0, L: (fqb(x, EJ1, EJ2, EC, phi0, L)+frb)*0.5+(((fqb(x, EJ1, EJ2, EC, phi0, L)-frb)*0.5)**2+g**2)**0.5*np.sign(frb-fqb(x, EJ1, EJ2, EC, phi0, L))"
   ]
  },
  {
   "cell_type": "code",
   "execution_count": null,
   "metadata": {},
   "outputs": [],
   "source": [
    "initial_guess = {'L':np.identity(len(x))*0.3-0.01, # initial guess for inductance matrix\n",
    "                     'phi0':-np.ones(len(x))*0.1, # initial guess for residual flux\n",
    "                     'frb':np.mean(max_dev_matrix, axis=(0,2))*1e9,\n",
    "                     #'frb':[6.85e9, 7.15e9, 7.00e9],\n",
    "                     'EC':0.175e9,\n",
    "                     'EJ1':18.8e9,\n",
    "                     'EJ2':3.6e9,\n",
    "                     'g':40e6}\n",
    "\n",
    "num_resonators =3\n",
    "phi0_vec = []\n",
    "L_mat = []\n",
    "fitresults_vec = []\n",
    "for resonator_id in range(num_resonators):\n",
    "    data = [max_dev_matrix[i][resonator_id] for i in range(num_resonators)]\n",
    "    x = [coil_value_matrix[i][resonator_id] for i in range(num_resonators)]\n",
    "    def fr_coil(p, coil_id):\n",
    "        frb, g, EJ1, EJ2, EC, phi0 = p[:6]\n",
    "        L = p[6:]\n",
    "        return fr(x[coil_id], frb, g, EJ1, EJ2, EC, phi0, L[coil_id])/1e9\n",
    "    def residuals(p):\n",
    "        frb, g, EJ1, EJ2, EC, phi0 = p[:6]\n",
    "        L = p[6:]\n",
    "        res = []\n",
    "        for coil_id in range(len(data)):\n",
    "            #print (fr(x[coil_id], frb, g, EJ1, EJ2, EC, phi0, L[coil_id]))\n",
    "            #print (fqb(x[coil_id], EJ1, EJ2, EC, phi0, L[coil_id]))\n",
    "            #print (x[coil_id]*np.reshape(L,(-1,1)))\n",
    "            res.extend(fr(x[coil_id], frb, g, EJ1, EJ2, EC, phi0, L[coil_id])/1e9-data[coil_id])\n",
    "        return res\n",
    "    from scipy.optimize import least_squares\n",
    "\n",
    "    p0 = (initial_guess['frb'][resonator_id], \n",
    "          initial_guess['g'], \n",
    "          initial_guess['EJ1'], \n",
    "          initial_guess['EJ2'], \n",
    "          initial_guess['EC'], \n",
    "          initial_guess['phi0'][resonator_id])+\\\n",
    "          tuple(initial_guess['L'][resonator_id,:])\n",
    "\n",
    "    bounds = ((0,      0,      0,      0,      0,      -np.pi)+tuple([-np.inf]*num_resonators),\n",
    "              (np.inf, np.inf, np.inf, np.inf, np.inf,  np.pi)+tuple([ np.inf]*num_resonators))\n",
    "    fitresults = least_squares(residuals, p0, x_scale=np.abs(p0), bounds=bounds)\n",
    "    fitresults_vec.append(fitresults)\n",
    "    phi0_vec.append(fitresults.x[5])\n",
    "    L_mat.append(fitresults.x[6:])"
   ]
  },
  {
   "cell_type": "code",
   "execution_count": null,
   "metadata": {},
   "outputs": [],
   "source": [
    "for resonator_id in range(num_resonators):\n",
    "    for coil_id in range(num_resonators):\n",
    "        axes[resonator_id, coil_id].plot(coil_value_matrix[coil_id][resonator_id], \n",
    "                                     fr_coil(fitresults_vec[resonator_id].x, coil_id), color='black', linewidth=2)"
   ]
  },
  {
   "cell_type": "code",
   "execution_count": null,
   "metadata": {},
   "outputs": [],
   "source": []
  }
 ],
 "metadata": {
  "kernelspec": {
   "display_name": "Python 3",
   "language": "python",
   "name": "python3"
  },
  "language_info": {
   "codemirror_mode": {
    "name": "ipython",
    "version": 3
   },
   "file_extension": ".py",
   "mimetype": "text/x-python",
   "name": "python",
   "nbconvert_exporter": "python",
   "pygments_lexer": "ipython3",
   "version": "3.5.5"
  }
 },
 "nbformat": 4,
 "nbformat_minor": 2
}
